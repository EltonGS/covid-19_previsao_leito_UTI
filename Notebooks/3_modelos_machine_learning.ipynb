{
  "nbformat": 4,
  "nbformat_minor": 0,
  "metadata": {
    "colab": {
      "name": "3_modelos_machine_learning.ipynb",
      "provenance": [],
      "collapsed_sections": [],
      "authorship_tag": "ABX9TyOmcgrwGwk1zpIXoH4va8gP",
      "include_colab_link": true
    },
    "kernelspec": {
      "name": "python3",
      "display_name": "Python 3"
    },
    "language_info": {
      "name": "python"
    }
  },
  "cells": [
    {
      "cell_type": "markdown",
      "metadata": {
        "id": "view-in-github",
        "colab_type": "text"
      },
      "source": [
        "<a href=\"https://colab.research.google.com/github/EltonGS/covid-19_previsao_leito_UTI/blob/main/Notebooks/3_modelos_machine_learning.ipynb\" target=\"_parent\"><img src=\"https://colab.research.google.com/assets/colab-badge.svg\" alt=\"Open In Colab\"/></a>"
      ]
    },
    {
      "cell_type": "markdown",
      "metadata": {
        "id": "oZ3Ms8HqfBXk"
      },
      "source": [
        "# Introdução\n",
        "\n",
        "Esse é o terceiro, e último, notebook desse projeto. Nele a base de dados disponibilizada pelo Hospital Sírio Libanês é utilizada para a o treinamento e teste de **Modelos de Macine Learning** com o objetivo de prever se um paciente precisará, ou não, ser admitido na UTI com base nos dados disponíveis. A base de dados foi tratada no notebook **tratamento_dados** e analisada no notebook **analise_dos_dados**.\n",
        "\n",
        "### Mas o que é Machine Learning ou Aprendizado de Máquina?\n",
        "\n",
        "De acordo com a **IBM**, **Machine Learning é o ramo da ciência da computação e inteligência artificial que foca no uso de dados e algoritmos para imitar a maneira como humanos pensam, melhorando sua acurácia gradualmente**.\n",
        "\n",
        "**Machine Learning** é um componente importante no crescente campo da **Ciência de Dados**. Através de métodos estatísticos, algoritmos são treinados para realizar classificação ou previsões, realizando descobertas em projetos de mineração de dados. Essas descobertas guiam tomadas de decisão de negócios ou em aplicações.\n",
        "\n",
        "### O uso de Machine Learning em Sistemas de Saúde\n",
        "\n",
        "<p style=\"clear:both;margin-bottom:20px;\"><a href=\"https://healthinformatics.uic.edu/blog/machine-learning-in-healthcare/\" rel=\"noreferrer\" target=\"_blank\"><img src=\"https://s3.amazonaws.com/utep-uploads/wp-content/uploads/UIC/2020/11/13094738/How-Machine-Learning-is-Applied-in-Healthcare-1.jpg\" alt=\"Six ways in which machine learning is used to improve healthcare.\" style=\"max-width:100%;\" /></a></p><p style=\"clear:both;margin-bottom:20px;\"><a href=\"https://healthinformatics.uic.edu\" rel=\"noreferrer\" target=\"_blank\">University of Illinois at Chicago </a></p>\n",
        "\n",
        "\n",
        "Conforme demonstrado pela imagem acima, da Universidade de Illinois em Chicago, Machine Learning já é utilizado em sistemas de saúde e ajudam na evolução de tratamentos.\n",
        "\n",
        "Para a base de dados disponibilizada pelo Hospital Sírio Libanês, o **objetivo é identificar se um paciente necessitará de tratamento na UTI com base nos dados informados**. É necessário **CLASSIFICAR** se o paciente precisa ou não de UTI.\n",
        "\n",
        "Para isso serão utilizados algoritmos de classificação.\n"
      ]
    },
    {
      "cell_type": "markdown",
      "metadata": {
        "id": "X62OpXafoM_S"
      },
      "source": [
        "# Informações sobre os dados\n",
        "\n",
        "O **Hospital Sírio Libanês** disponibilizou a base de dados no **Kaggle** para a comunidade analisar e criar modelos de **Machine Learning** que ajudem a identificar a necessidade de **UTI** para os pacientes que chegam ao hospital com Covid-19.\n",
        "\n",
        "No notebook de tratamendo dos dados tem a explicação fornecida pelo Sírio Libanês em como trabalhar com os dados. Relembrando:\n",
        "\n",
        "- **O objetivo é identificar quais pacientes precisarão de UTI e também quais não precisarão**.\n",
        "\n",
        "- **A partir do momento que o paciente é admitido na UTI os dados não devem ser utilizados para treinar o modelo**.\n",
        "\n",
        "- **Clinicamente é interessante que o diagnóstico da necessidade de UTI, ou não, seja realizado o mais rapidamente possível**.\n",
        "\n",
        "Com base nessas especificações do Hospital Sírio Libanês a seguinte decisão foi tomada:\n",
        "\n",
        "- **Serão analisados os dados da primeira (entre 0 e 2 horas da chegada do paciente ao hospital). Tendo assim um modelo que pode ser utilizado assim que o paciente chega ao hospital**."
      ]
    },
    {
      "cell_type": "markdown",
      "metadata": {
        "id": "nFGxISmIzW28"
      },
      "source": [
        "# Modelos de Machine Learning utilizados\n",
        "\n",
        "O problema apresentado pelo Hospital Sírio Libanês é de classificação.\n",
        "\n",
        "Os modelos de classificação serão importados da biblioteca **[SciKit Learn](https://scikit-learn.org/stable/)**.\n",
        "\n",
        "Os **modelos escolhidos** para serem testados com a base de dados são:\n",
        "\n",
        "- **Random Forest Classifier**;\n",
        "\n",
        "- **Logistic Regression**;\n",
        "\n",
        "Os modelos do tipo **SVM (Support Vector Machine)**:\n",
        "\n",
        "* **SVC (Support Vector Classifier)**;\n",
        "\n",
        "* **LinearSVC ( Linear Support Vector Classifier)**;\n",
        "\n",
        "Os modelos serão explicados quando utilizados.\n",
        "\n",
        "### Separação dos dados entre treino e teste\n",
        "\n",
        "Para o treinamento e teste do modelo é necessário a separação da base dados entre treino e teste. Para esse projeto a separação será 80% dos dados para treino e 20% dos dados para teste.\n",
        "\n",
        "Essa divisão será realizada utilizando os metódos **RepeatedStratifiedKFold** e **train_test_split** disponibilizados pelo **SciKit Learn**.\n",
        "\n",
        "### Métricas de avaliação\n",
        "\n",
        "As **métricas de avaliação** utilizadas para medir a **eficácia** dos modelos de Machine Learning serão:\n",
        "\n",
        "- **ROC AUC (Receiver Operating Characteristic - Area Under the Curve)**: A curva ROC demonstra o quão bom o modelo é em definir entre dois valores, por isso é utilizado para modelos de classficação. A métrica ROC possui 2 parâmetros:\n",
        "\n",
        "> * **Taxa de verdadeiro positivo**: que é medida por *verdadeiro positivo* / *(verdadeiro positivo + falso negativos)*;\n",
        "\n",
        "> * **Taxa de falso positivo**: é medida por *falso positivo* / *(falso positivo + verdadeiro negativo)*\n",
        "\n",
        "O **AUC** é a área sob a curva e varia entre 0 e 1. Quanto mais próximo de 1 melhor está o modelo.\n",
        "\n",
        "- **Matriz de Confusão (Confusion Matrix)**: é uma medida de performance para um modelo de classificação. É uma tabela com 4 diferentes combinações dos valores reais e os previstos. O resultado é uma matriz com 4 valores:\n",
        "\n",
        "> - **Verdadeiro Positivo**: o valor real e o previsto são positivos;\n",
        "> - **Verdadeiro Negativo**: o valor real e o previsto são negativos;\n",
        "> - **Falso Positivo**: o valor real é negativo e foi previsto como positivo;\n",
        "> - **Falso Negativo**: o valor real é positivo e foi previsto como negativo;\n",
        "\n",
        "Após a previsão realizada pelo modelo é possível extrair outras métricas como *Precision, Recall, F1 Score*.\n",
        "\n",
        "- **Precision**: de todas os valores previstos como positivos, quantos eram positivos no dados reais. Utilizado quando o falso positivo tem um resultado muito impactante quando comparado com o falso negativo;\n",
        "- **Recall**: de todos os valores positivos, quantos foram os previstos como positivos. Utilizado quando o falso negativo tem um impacto muito maior que o falso positivo;\n",
        "- **F1 Score**: média harmônica entre o o Precision e o Recall."
      ]
    },
    {
      "cell_type": "markdown",
      "metadata": {
        "id": "StVQdhrOjpzj"
      },
      "source": [
        "# Recursos Utilizados\n",
        "\n",
        "Essa seção contém as **bibliotecas** e **funções** utilizadas nesse notebook.\n",
        "\n",
        "### Bibliotecas utilizadas"
      ]
    },
    {
      "cell_type": "code",
      "metadata": {
        "id": "A0f7mzjJe-GL"
      },
      "source": [
        "# manipulação dos dados\n",
        "import pandas as pd\n",
        "import numpy as np\n",
        "\n",
        "# visualização dos dados\n",
        "import matplotlib.pyplot as plt\n",
        "import seaborn as sns\n",
        "\n",
        "# modelos de machine learning\n",
        "from sklearn.ensemble import RandomForestClassifier\n",
        "from sklearn.linear_model import LogisticRegression\n",
        "from sklearn.svm import SVC, LinearSVC\n",
        "\n",
        "# divisão dos dados\n",
        "from sklearn.model_selection import cross_validate, RepeatedStratifiedKFold\n",
        "from sklearn.model_selection import train_test_split\n",
        "\n",
        "# teste dos hiperparâmetros\n",
        "from sklearn.model_selection import RandomizedSearchCV\n",
        "\n",
        "# métricas de avaliação do modelo\n",
        "from sklearn.metrics import roc_curve, roc_auc_score, plot_roc_curve\n",
        "from sklearn.metrics import plot_confusion_matrix, classification_report"
      ],
      "execution_count": 1,
      "outputs": []
    },
    {
      "cell_type": "markdown",
      "metadata": {
        "id": "oYgoLD6Cn3-r"
      },
      "source": [
        "### Funções"
      ]
    },
    {
      "cell_type": "code",
      "metadata": {
        "id": "uOmrDFDBn55W"
      },
      "source": [
        "def dimensao_dados (dados):\n",
        "  \"\"\"\n",
        "  Essa função verifica as dimensões do dataframe\n",
        "  \n",
        "  Retorna a quantidade de linhas e colunas\n",
        "  \"\"\"\n",
        "  # verifica as dimensões do dataframe\n",
        "  linha, coluna = dados.shape\n",
        "\n",
        "  # imprime as dimensões do dataframe\n",
        "  return print(f'O dataframe possui {linha} linhas e {coluna} colunas.')"
      ],
      "execution_count": 2,
      "outputs": []
    },
    {
      "cell_type": "code",
      "metadata": {
        "id": "S8FI5h8WvlIs"
      },
      "source": [
        "def divide_dados(dados):\n",
        "  \"\"\"\n",
        "  Função para dividir os dados em treino e teste\n",
        "  ===============================================\n",
        "  Retorna os valores de X e y para treino e teste\n",
        "  \"\"\"\n",
        "  # separa os dados\n",
        "  x_colunas = dados.describe().columns\n",
        "  y = dados['icu']\n",
        "  x = dados[x_colunas].drop(['icu'], axis=1)\n",
        "\n",
        "  # divide os dados em treino e teste\n",
        "  x_train, x_test, y_train, y_test = train_test_split(x, y, stratify = y,\n",
        "                                                      random_state=481516, test_size=0.2)\n",
        "  \n",
        "  return x_train, x_test, y_train, y_test"
      ],
      "execution_count": 3,
      "outputs": []
    },
    {
      "cell_type": "code",
      "metadata": {
        "id": "PlER2aq2p6j9"
      },
      "source": [
        "def cv_modelo(modelo, dados, n_splits, n_repeats):\n",
        "  \"\"\"\n",
        "  Executa a validação cruzada para o modelo informado.\n",
        "\n",
        "  Retorna o auc_medio para os dados de treino e teste\n",
        "  \"\"\"\n",
        "  \n",
        "  # define a seed\n",
        "  np.random.seed(481516)\n",
        "\n",
        "  # embaralha os dados\n",
        "  dados = dados.sample(frac=1).reset_index(drop=True) # frac = 1 pega todos os dados\n",
        "\n",
        "  # define as colunas a serem utilizadas\n",
        "  x_columns = dados.columns\n",
        "  y = dados['icu']\n",
        "  x = dados[x_columns].drop(['icu', 'window'], axis=1)\n",
        "\n",
        "  # instancia o Repeated Stratified K Fold\n",
        "  cv = RepeatedStratifiedKFold(n_splits=n_splits, n_repeats=n_repeats)\n",
        "\n",
        "  # realiza a validação cruzada\n",
        "  resultados = cross_validate(modelo, x, y, cv=cv, scoring='roc_auc', return_train_score=True) # return_train_score retorna os testes realizados com os dados de treino,\n",
        "                                                                                              # utilizado para visualizar o max_depth da decision tree\n",
        "\n",
        "  auc_medio = np.mean(resultados['test_score'])\n",
        "  auc_medio_treino = np.mean(resultados['train_score'])\n",
        "  auc_std = np.std(resultados['test_score'])\n",
        "\n",
        "  print(f'AUC médio para os dados de teste: {auc_medio}')\n",
        "  print(f'AUC médio para os dados de treino: {auc_medio_treino}')\n",
        "  print(f'Intervalo da AUC para os dados de teste: {auc_medio - (2* auc_std)} - {auc_medio + (2* auc_std)}')\n",
        "\n",
        "  return auc_medio, auc_medio_treino"
      ],
      "execution_count": 4,
      "outputs": []
    },
    {
      "cell_type": "code",
      "metadata": {
        "id": "XESOa-Qi1ykA"
      },
      "source": [
        "def teste_hiperparametro(modelo, dados, hiperparametros):\n",
        "  \"\"\"\n",
        "  Função que testa hiperparâmetro para um determinado modelo.\n",
        "\n",
        "  Retorna os melhores hiperparâmetros\n",
        "  \"\"\"\n",
        "  # define a seed\n",
        "  np.random.seed(481516)\n",
        "\n",
        "  # embaralha os dados\n",
        "  dados = dados.sample(frac=1).reset_index(drop=True) # frac = 1 pega todos os dados\n",
        "\n",
        "  # define as colunas a serem utilizadas\n",
        "  x_columns = dados.columns\n",
        "  y = dados['icu']\n",
        "  x = dados[x_columns].drop(['icu', 'window'], axis=1)\n",
        "\n",
        "  # divisão dos dados\n",
        "  cv = RepeatedStratifiedKFold(random_state=481516)\n",
        "\n",
        "  # testa os hiperparâmetros\n",
        "  modelo_hiper_teste = RandomizedSearchCV(modelo, param_distributions=hiperparametros,\n",
        "                                          cv=cv, scoring='roc_auc', random_state=481516,\n",
        "                                          n_jobs=-1)\n",
        "  \n",
        "  hiper_param_selec = modelo_hiper_teste.fit(x, y)\n",
        "\n",
        "  return hiper_param_selec.best_params_, hiper_param_selec.best_score_"
      ],
      "execution_count": 5,
      "outputs": []
    },
    {
      "cell_type": "code",
      "metadata": {
        "id": "eTMNQQNKuVdF"
      },
      "source": [
        "def plota_curva_roc(modelo, tipo_modelo, dados, cor_curva):\n",
        "  \"\"\"\n",
        "  Plota um gráfico com a curva ROC para o modelo espeficicado.\n",
        "\n",
        "  ============================================================\n",
        "\n",
        "  Parâmetros:\n",
        "\n",
        "  modelo: modelo instanciado\n",
        "\n",
        "  tipo_modelo: qual o modelo que será plotado\n",
        "\n",
        "  dados: dataframe utilizado no modelo\n",
        "\n",
        "  cor_cuva: cor da curva que será plotada\n",
        "  \"\"\"\n",
        "  \n",
        "  # divide os dados\n",
        "  x_train, x_test, y_train, y_test = divide_dados(dados)\n",
        "  \n",
        "  # cria a figura\n",
        "  fig = plt.subplots(figsize=(10, 10))\n",
        "  ax = plt.axes()\n",
        "\n",
        "  # plota a curva AUC\n",
        "  plot_roc_curve(modelo, x_test, y_test, ax=ax, color=cor_curva)\n",
        "\n",
        "  # define o título e o labels para os eixos\n",
        "  plt.title(f'Curva ROC para o modelo {tipo_modelo}\\n', fontsize=20, fontweight='bold',\n",
        "           color='black')\n",
        "  plt.ylabel('Razão de Verdadeiro Positivo (VP)', fontsize=11, color='dimgrey',\n",
        "             fontweight='bold')\n",
        "  plt.xlabel('Razão de Falto Positivo (FP)', fontsize=11, color='dimgrey',\n",
        "             fontweight='bold')\n",
        "\n",
        "  # parâmetros das linhas ao redor do gráfico\n",
        "  ax.spines['bottom'].set_color('silver')\n",
        "  ax.spines['left'].set_color('silver')\n",
        "  ax.spines['right'].set_visible(False)\n",
        "  ax.spines['top'].set_visible(False)\n",
        "\n",
        "  # cria a grid\n",
        "  ax.grid(axis='both', which='major', linestyle='dotted')\n",
        "\n",
        "  # manipula a legenda\n",
        "  ax.legend(loc='upper left', fontsize=10)\n",
        "\n",
        "  plt.show()"
      ],
      "execution_count": 6,
      "outputs": []
    },
    {
      "cell_type": "code",
      "metadata": {
        "id": "6I-5GJianQsF"
      },
      "source": [
        "def plota_matriz_confusa(modelo, tipo_modelo, dados, paleta_matriz):\n",
        "  \"\"\"\n",
        "  Função plota a matriz de confusão do modelo informado\n",
        "\n",
        "  =====================================================\n",
        "\n",
        "  Parâmetros:\n",
        "\n",
        "  modelo: modelo instanciado\n",
        "\n",
        "  dados: dataframe utilizado para treinar/testar o modelo\n",
        "\n",
        "  paleta_matriz: paleta de cores utilizada para plotar a matriz\n",
        "  \"\"\"\n",
        "\n",
        "  # divide os dados\n",
        "  x_train, x_test, y_train, y_test = divide_dados(dados)\n",
        "\n",
        "  # cria a figura e os eixos\n",
        "  fig = plt.figure(figsize=(10, 10))\n",
        "  ax = plt.axes()\n",
        "\n",
        "  # plota a matriz\n",
        "  plot_confusion_matrix(modelo, x_test, y_test, ax = ax, cmap = paleta_matriz,\n",
        "                        display_labels=['UTI NÃO', 'UTI SIM'])\n",
        "  \n",
        "  # remove a colorbar\n",
        "  fig.delaxes(fig.axes[1])\n",
        "  \n",
        "  # define o título e o labels para os eixos\n",
        "  plt.title(f'Matriz de Confusão para o modelo {tipo_modelo}\\n', fontsize=20, fontweight='bold',\n",
        "           color='black')\n",
        "  plt.ylabel('CLASSIFICAÇÃO REAL', fontsize=11, color='dimgrey',\n",
        "             fontweight='bold')\n",
        "  plt.xlabel('CLASSIFICAÇÃO PREVISTA', fontsize=11, color='dimgrey',\n",
        "             fontweight='bold')\n",
        "  \n",
        "  plt.show()"
      ],
      "execution_count": 7,
      "outputs": []
    },
    {
      "cell_type": "markdown",
      "metadata": {
        "id": "lPk0QZs_nVtd"
      },
      "source": [
        "# Carregando os dados"
      ]
    },
    {
      "cell_type": "code",
      "metadata": {
        "colab": {
          "base_uri": "https://localhost:8080/",
          "height": 287
        },
        "id": "6GZ5hqIpmlOk",
        "outputId": "c198746b-c949-478c-e4bc-dfa4150b6c39"
      },
      "source": [
        "# endereço dos dados\n",
        "url = 'https://raw.githubusercontent.com/EltonGS/covid_ML_previsao_UTI/main/Dados/Dados%20Tratados/dados_ml.csv'\n",
        "\n",
        "# carrega os dados\n",
        "dados = pd.read_csv(url)\n",
        "\n",
        "# visualiza os dados\n",
        "dados.head()"
      ],
      "execution_count": 8,
      "outputs": [
        {
          "output_type": "execute_result",
          "data": {
            "text/html": [
              "<div>\n",
              "<style scoped>\n",
              "    .dataframe tbody tr th:only-of-type {\n",
              "        vertical-align: middle;\n",
              "    }\n",
              "\n",
              "    .dataframe tbody tr th {\n",
              "        vertical-align: top;\n",
              "    }\n",
              "\n",
              "    .dataframe thead th {\n",
              "        text-align: right;\n",
              "    }\n",
              "</style>\n",
              "<table border=\"1\" class=\"dataframe\">\n",
              "  <thead>\n",
              "    <tr style=\"text-align: right;\">\n",
              "      <th></th>\n",
              "      <th>patient_visit_identifier</th>\n",
              "      <th>age_above65</th>\n",
              "      <th>age_percentil</th>\n",
              "      <th>gender</th>\n",
              "      <th>disease grouping 1</th>\n",
              "      <th>disease grouping 2</th>\n",
              "      <th>disease grouping 3</th>\n",
              "      <th>disease grouping 4</th>\n",
              "      <th>disease grouping 5</th>\n",
              "      <th>disease grouping 6</th>\n",
              "      <th>htn</th>\n",
              "      <th>immunocompromised</th>\n",
              "      <th>other</th>\n",
              "      <th>albumin_median</th>\n",
              "      <th>albumin_diff</th>\n",
              "      <th>be_arterial_median</th>\n",
              "      <th>be_arterial_diff</th>\n",
              "      <th>be_venous_median</th>\n",
              "      <th>be_venous_diff</th>\n",
              "      <th>bic_arterial_median</th>\n",
              "      <th>bic_arterial_diff</th>\n",
              "      <th>bic_venous_median</th>\n",
              "      <th>bic_venous_diff</th>\n",
              "      <th>billirubin_median</th>\n",
              "      <th>billirubin_diff</th>\n",
              "      <th>blast_median</th>\n",
              "      <th>blast_diff</th>\n",
              "      <th>calcium_median</th>\n",
              "      <th>calcium_diff</th>\n",
              "      <th>creatinin_median</th>\n",
              "      <th>creatinin_diff</th>\n",
              "      <th>ffa_median</th>\n",
              "      <th>ffa_diff</th>\n",
              "      <th>ggt_median</th>\n",
              "      <th>ggt_diff</th>\n",
              "      <th>glucose_median</th>\n",
              "      <th>glucose_diff</th>\n",
              "      <th>hematocrite_median</th>\n",
              "      <th>hematocrite_diff</th>\n",
              "      <th>hemoglobin_diff</th>\n",
              "      <th>...</th>\n",
              "      <th>pcr_median</th>\n",
              "      <th>pcr_diff</th>\n",
              "      <th>ph_arterial_median</th>\n",
              "      <th>ph_arterial_diff</th>\n",
              "      <th>ph_venous_median</th>\n",
              "      <th>ph_venous_diff</th>\n",
              "      <th>platelets_median</th>\n",
              "      <th>platelets_diff</th>\n",
              "      <th>potassium_median</th>\n",
              "      <th>potassium_diff</th>\n",
              "      <th>sat02_arterial_median</th>\n",
              "      <th>sat02_arterial_diff</th>\n",
              "      <th>sat02_venous_median</th>\n",
              "      <th>sat02_venous_diff</th>\n",
              "      <th>sodium_median</th>\n",
              "      <th>sodium_diff</th>\n",
              "      <th>tgo_median</th>\n",
              "      <th>tgo_diff</th>\n",
              "      <th>tgp_median</th>\n",
              "      <th>tgp_diff</th>\n",
              "      <th>ttpa_median</th>\n",
              "      <th>ttpa_diff</th>\n",
              "      <th>urea_median</th>\n",
              "      <th>urea_diff</th>\n",
              "      <th>dimer_median</th>\n",
              "      <th>dimer_diff</th>\n",
              "      <th>bloodpressure_diastolic_mean</th>\n",
              "      <th>bloodpressure_sistolic_mean</th>\n",
              "      <th>heart_rate_mean</th>\n",
              "      <th>respiratory_rate_mean</th>\n",
              "      <th>temperature_mean</th>\n",
              "      <th>oxygen_saturation_mean</th>\n",
              "      <th>bloodpressure_diastolic_diff</th>\n",
              "      <th>bloodpressure_sistolic_diff</th>\n",
              "      <th>heart_rate_diff</th>\n",
              "      <th>respiratory_rate_diff</th>\n",
              "      <th>temperature_diff</th>\n",
              "      <th>oxygen_saturation_diff</th>\n",
              "      <th>window</th>\n",
              "      <th>icu</th>\n",
              "    </tr>\n",
              "  </thead>\n",
              "  <tbody>\n",
              "    <tr>\n",
              "      <th>0</th>\n",
              "      <td>0</td>\n",
              "      <td>1</td>\n",
              "      <td>5</td>\n",
              "      <td>0</td>\n",
              "      <td>0.0</td>\n",
              "      <td>0.0</td>\n",
              "      <td>0.0</td>\n",
              "      <td>0.0</td>\n",
              "      <td>1.0</td>\n",
              "      <td>1.0</td>\n",
              "      <td>0.0</td>\n",
              "      <td>0.0</td>\n",
              "      <td>1.0</td>\n",
              "      <td>0.605263</td>\n",
              "      <td>-1.0</td>\n",
              "      <td>-1.0</td>\n",
              "      <td>-1.0</td>\n",
              "      <td>-1.0</td>\n",
              "      <td>-1.0</td>\n",
              "      <td>-0.317073</td>\n",
              "      <td>-1.0</td>\n",
              "      <td>-0.317073</td>\n",
              "      <td>-1.0</td>\n",
              "      <td>-0.938950</td>\n",
              "      <td>-1.0</td>\n",
              "      <td>-1.0</td>\n",
              "      <td>-1.0</td>\n",
              "      <td>0.183673</td>\n",
              "      <td>-1.0</td>\n",
              "      <td>-0.868365</td>\n",
              "      <td>-1.0</td>\n",
              "      <td>-0.742004</td>\n",
              "      <td>-1.0</td>\n",
              "      <td>-0.945093</td>\n",
              "      <td>-1.0</td>\n",
              "      <td>-0.891993</td>\n",
              "      <td>-1.0</td>\n",
              "      <td>0.090147</td>\n",
              "      <td>-1.0</td>\n",
              "      <td>-1.0</td>\n",
              "      <td>...</td>\n",
              "      <td>-0.875236</td>\n",
              "      <td>-1.0</td>\n",
              "      <td>0.234043</td>\n",
              "      <td>-1.0</td>\n",
              "      <td>0.363636</td>\n",
              "      <td>-1.0</td>\n",
              "      <td>-0.540721</td>\n",
              "      <td>-1.0</td>\n",
              "      <td>-0.518519</td>\n",
              "      <td>-1.0</td>\n",
              "      <td>0.939394</td>\n",
              "      <td>-1.0</td>\n",
              "      <td>0.345679</td>\n",
              "      <td>-1.0</td>\n",
              "      <td>-0.028571</td>\n",
              "      <td>-1.0</td>\n",
              "      <td>-0.997201</td>\n",
              "      <td>-1.0</td>\n",
              "      <td>-0.990854</td>\n",
              "      <td>-1.0</td>\n",
              "      <td>-0.825613</td>\n",
              "      <td>-1.0</td>\n",
              "      <td>-0.836145</td>\n",
              "      <td>-1.0</td>\n",
              "      <td>-0.994912</td>\n",
              "      <td>-1.0</td>\n",
              "      <td>0.086420</td>\n",
              "      <td>-0.230769</td>\n",
              "      <td>-0.283019</td>\n",
              "      <td>-0.593220</td>\n",
              "      <td>-0.285714</td>\n",
              "      <td>0.736842</td>\n",
              "      <td>-1.000000</td>\n",
              "      <td>-1.000000</td>\n",
              "      <td>-1.000000</td>\n",
              "      <td>-1.000000</td>\n",
              "      <td>-1.000000</td>\n",
              "      <td>-1.000000</td>\n",
              "      <td>0-2</td>\n",
              "      <td>1</td>\n",
              "    </tr>\n",
              "    <tr>\n",
              "      <th>1</th>\n",
              "      <td>2</td>\n",
              "      <td>0</td>\n",
              "      <td>0</td>\n",
              "      <td>0</td>\n",
              "      <td>0.0</td>\n",
              "      <td>0.0</td>\n",
              "      <td>0.0</td>\n",
              "      <td>0.0</td>\n",
              "      <td>0.0</td>\n",
              "      <td>0.0</td>\n",
              "      <td>0.0</td>\n",
              "      <td>0.0</td>\n",
              "      <td>1.0</td>\n",
              "      <td>0.605263</td>\n",
              "      <td>-1.0</td>\n",
              "      <td>-1.0</td>\n",
              "      <td>-1.0</td>\n",
              "      <td>-1.0</td>\n",
              "      <td>-1.0</td>\n",
              "      <td>-0.317073</td>\n",
              "      <td>-1.0</td>\n",
              "      <td>-0.317073</td>\n",
              "      <td>-1.0</td>\n",
              "      <td>-0.938950</td>\n",
              "      <td>-1.0</td>\n",
              "      <td>-1.0</td>\n",
              "      <td>-1.0</td>\n",
              "      <td>0.357143</td>\n",
              "      <td>-1.0</td>\n",
              "      <td>-0.912243</td>\n",
              "      <td>-1.0</td>\n",
              "      <td>-0.742004</td>\n",
              "      <td>-1.0</td>\n",
              "      <td>-0.958528</td>\n",
              "      <td>-1.0</td>\n",
              "      <td>-0.780261</td>\n",
              "      <td>-1.0</td>\n",
              "      <td>0.144654</td>\n",
              "      <td>-1.0</td>\n",
              "      <td>-1.0</td>\n",
              "      <td>...</td>\n",
              "      <td>-0.939887</td>\n",
              "      <td>-1.0</td>\n",
              "      <td>0.234043</td>\n",
              "      <td>-1.0</td>\n",
              "      <td>0.363636</td>\n",
              "      <td>-1.0</td>\n",
              "      <td>-0.399199</td>\n",
              "      <td>-1.0</td>\n",
              "      <td>-0.703704</td>\n",
              "      <td>-1.0</td>\n",
              "      <td>0.939394</td>\n",
              "      <td>-1.0</td>\n",
              "      <td>0.345679</td>\n",
              "      <td>-1.0</td>\n",
              "      <td>0.085714</td>\n",
              "      <td>-1.0</td>\n",
              "      <td>-0.995428</td>\n",
              "      <td>-1.0</td>\n",
              "      <td>-0.986662</td>\n",
              "      <td>-1.0</td>\n",
              "      <td>-0.846633</td>\n",
              "      <td>-1.0</td>\n",
              "      <td>-0.836145</td>\n",
              "      <td>-1.0</td>\n",
              "      <td>-0.978029</td>\n",
              "      <td>-1.0</td>\n",
              "      <td>-0.489712</td>\n",
              "      <td>-0.685470</td>\n",
              "      <td>-0.048218</td>\n",
              "      <td>-0.645951</td>\n",
              "      <td>0.357143</td>\n",
              "      <td>0.935673</td>\n",
              "      <td>-0.547826</td>\n",
              "      <td>-0.533742</td>\n",
              "      <td>-0.603053</td>\n",
              "      <td>-0.764706</td>\n",
              "      <td>-1.000000</td>\n",
              "      <td>-0.959596</td>\n",
              "      <td>0-2</td>\n",
              "      <td>1</td>\n",
              "    </tr>\n",
              "    <tr>\n",
              "      <th>2</th>\n",
              "      <td>3</td>\n",
              "      <td>0</td>\n",
              "      <td>3</td>\n",
              "      <td>1</td>\n",
              "      <td>0.0</td>\n",
              "      <td>0.0</td>\n",
              "      <td>0.0</td>\n",
              "      <td>0.0</td>\n",
              "      <td>0.0</td>\n",
              "      <td>0.0</td>\n",
              "      <td>0.0</td>\n",
              "      <td>1.0</td>\n",
              "      <td>1.0</td>\n",
              "      <td>-0.263158</td>\n",
              "      <td>-1.0</td>\n",
              "      <td>-1.0</td>\n",
              "      <td>-1.0</td>\n",
              "      <td>-1.0</td>\n",
              "      <td>-1.0</td>\n",
              "      <td>-0.317073</td>\n",
              "      <td>-1.0</td>\n",
              "      <td>-0.317073</td>\n",
              "      <td>-1.0</td>\n",
              "      <td>-0.972789</td>\n",
              "      <td>-1.0</td>\n",
              "      <td>-1.0</td>\n",
              "      <td>-1.0</td>\n",
              "      <td>0.326531</td>\n",
              "      <td>-1.0</td>\n",
              "      <td>-0.968861</td>\n",
              "      <td>-1.0</td>\n",
              "      <td>-0.194030</td>\n",
              "      <td>-1.0</td>\n",
              "      <td>-0.316589</td>\n",
              "      <td>-1.0</td>\n",
              "      <td>-0.891993</td>\n",
              "      <td>-1.0</td>\n",
              "      <td>-0.203354</td>\n",
              "      <td>-1.0</td>\n",
              "      <td>-1.0</td>\n",
              "      <td>...</td>\n",
              "      <td>-0.503592</td>\n",
              "      <td>-1.0</td>\n",
              "      <td>0.234043</td>\n",
              "      <td>-1.0</td>\n",
              "      <td>0.363636</td>\n",
              "      <td>-1.0</td>\n",
              "      <td>-0.564753</td>\n",
              "      <td>-1.0</td>\n",
              "      <td>-0.777778</td>\n",
              "      <td>-1.0</td>\n",
              "      <td>0.939394</td>\n",
              "      <td>-1.0</td>\n",
              "      <td>0.580247</td>\n",
              "      <td>-1.0</td>\n",
              "      <td>0.200000</td>\n",
              "      <td>-1.0</td>\n",
              "      <td>-0.989549</td>\n",
              "      <td>-1.0</td>\n",
              "      <td>-0.956555</td>\n",
              "      <td>-1.0</td>\n",
              "      <td>-0.846633</td>\n",
              "      <td>-1.0</td>\n",
              "      <td>-0.937349</td>\n",
              "      <td>-1.0</td>\n",
              "      <td>-0.978029</td>\n",
              "      <td>-1.0</td>\n",
              "      <td>0.012346</td>\n",
              "      <td>-0.369231</td>\n",
              "      <td>-0.528302</td>\n",
              "      <td>-0.457627</td>\n",
              "      <td>-0.285714</td>\n",
              "      <td>0.684211</td>\n",
              "      <td>-1.000000</td>\n",
              "      <td>-1.000000</td>\n",
              "      <td>-1.000000</td>\n",
              "      <td>-1.000000</td>\n",
              "      <td>-1.000000</td>\n",
              "      <td>-1.000000</td>\n",
              "      <td>0-2</td>\n",
              "      <td>0</td>\n",
              "    </tr>\n",
              "    <tr>\n",
              "      <th>3</th>\n",
              "      <td>4</td>\n",
              "      <td>0</td>\n",
              "      <td>0</td>\n",
              "      <td>0</td>\n",
              "      <td>0.0</td>\n",
              "      <td>0.0</td>\n",
              "      <td>0.0</td>\n",
              "      <td>0.0</td>\n",
              "      <td>0.0</td>\n",
              "      <td>0.0</td>\n",
              "      <td>0.0</td>\n",
              "      <td>0.0</td>\n",
              "      <td>1.0</td>\n",
              "      <td>0.605263</td>\n",
              "      <td>-1.0</td>\n",
              "      <td>-1.0</td>\n",
              "      <td>-1.0</td>\n",
              "      <td>-1.0</td>\n",
              "      <td>-1.0</td>\n",
              "      <td>-0.317073</td>\n",
              "      <td>-1.0</td>\n",
              "      <td>-0.317073</td>\n",
              "      <td>-1.0</td>\n",
              "      <td>-0.935113</td>\n",
              "      <td>-1.0</td>\n",
              "      <td>-1.0</td>\n",
              "      <td>-1.0</td>\n",
              "      <td>0.357143</td>\n",
              "      <td>-1.0</td>\n",
              "      <td>-0.913659</td>\n",
              "      <td>-1.0</td>\n",
              "      <td>-0.829424</td>\n",
              "      <td>-1.0</td>\n",
              "      <td>-0.938084</td>\n",
              "      <td>-1.0</td>\n",
              "      <td>-0.851024</td>\n",
              "      <td>-1.0</td>\n",
              "      <td>0.358491</td>\n",
              "      <td>-1.0</td>\n",
              "      <td>-1.0</td>\n",
              "      <td>...</td>\n",
              "      <td>-0.990926</td>\n",
              "      <td>-1.0</td>\n",
              "      <td>0.234043</td>\n",
              "      <td>-1.0</td>\n",
              "      <td>0.363636</td>\n",
              "      <td>-1.0</td>\n",
              "      <td>-0.457944</td>\n",
              "      <td>-1.0</td>\n",
              "      <td>-0.592593</td>\n",
              "      <td>-1.0</td>\n",
              "      <td>0.939394</td>\n",
              "      <td>-1.0</td>\n",
              "      <td>0.345679</td>\n",
              "      <td>-1.0</td>\n",
              "      <td>0.142857</td>\n",
              "      <td>-1.0</td>\n",
              "      <td>-0.998507</td>\n",
              "      <td>-1.0</td>\n",
              "      <td>-0.991235</td>\n",
              "      <td>-1.0</td>\n",
              "      <td>-0.846633</td>\n",
              "      <td>-1.0</td>\n",
              "      <td>-0.903614</td>\n",
              "      <td>-1.0</td>\n",
              "      <td>-1.000000</td>\n",
              "      <td>-1.0</td>\n",
              "      <td>0.333333</td>\n",
              "      <td>-0.153846</td>\n",
              "      <td>0.160377</td>\n",
              "      <td>-0.593220</td>\n",
              "      <td>0.285714</td>\n",
              "      <td>0.868421</td>\n",
              "      <td>-1.000000</td>\n",
              "      <td>-0.877301</td>\n",
              "      <td>-0.923664</td>\n",
              "      <td>-0.882353</td>\n",
              "      <td>-0.952381</td>\n",
              "      <td>-0.979798</td>\n",
              "      <td>0-2</td>\n",
              "      <td>0</td>\n",
              "    </tr>\n",
              "    <tr>\n",
              "      <th>4</th>\n",
              "      <td>5</td>\n",
              "      <td>0</td>\n",
              "      <td>0</td>\n",
              "      <td>0</td>\n",
              "      <td>0.0</td>\n",
              "      <td>0.0</td>\n",
              "      <td>0.0</td>\n",
              "      <td>0.0</td>\n",
              "      <td>0.0</td>\n",
              "      <td>0.0</td>\n",
              "      <td>0.0</td>\n",
              "      <td>0.0</td>\n",
              "      <td>1.0</td>\n",
              "      <td>0.605263</td>\n",
              "      <td>-1.0</td>\n",
              "      <td>-1.0</td>\n",
              "      <td>-1.0</td>\n",
              "      <td>-1.0</td>\n",
              "      <td>-1.0</td>\n",
              "      <td>-0.317073</td>\n",
              "      <td>-1.0</td>\n",
              "      <td>-0.317073</td>\n",
              "      <td>-1.0</td>\n",
              "      <td>-0.938950</td>\n",
              "      <td>-1.0</td>\n",
              "      <td>-1.0</td>\n",
              "      <td>-1.0</td>\n",
              "      <td>0.357143</td>\n",
              "      <td>-1.0</td>\n",
              "      <td>-0.891012</td>\n",
              "      <td>-1.0</td>\n",
              "      <td>-0.742004</td>\n",
              "      <td>-1.0</td>\n",
              "      <td>-0.958528</td>\n",
              "      <td>-1.0</td>\n",
              "      <td>-0.891993</td>\n",
              "      <td>-1.0</td>\n",
              "      <td>0.291405</td>\n",
              "      <td>-1.0</td>\n",
              "      <td>-1.0</td>\n",
              "      <td>...</td>\n",
              "      <td>-0.997732</td>\n",
              "      <td>-1.0</td>\n",
              "      <td>0.234043</td>\n",
              "      <td>-1.0</td>\n",
              "      <td>0.363636</td>\n",
              "      <td>-1.0</td>\n",
              "      <td>-0.292390</td>\n",
              "      <td>-1.0</td>\n",
              "      <td>-0.666667</td>\n",
              "      <td>-1.0</td>\n",
              "      <td>0.939394</td>\n",
              "      <td>-1.0</td>\n",
              "      <td>0.345679</td>\n",
              "      <td>-1.0</td>\n",
              "      <td>0.085714</td>\n",
              "      <td>-1.0</td>\n",
              "      <td>-0.997947</td>\n",
              "      <td>-1.0</td>\n",
              "      <td>-0.988948</td>\n",
              "      <td>-1.0</td>\n",
              "      <td>-0.846633</td>\n",
              "      <td>-1.0</td>\n",
              "      <td>-0.884337</td>\n",
              "      <td>-1.0</td>\n",
              "      <td>-1.000000</td>\n",
              "      <td>-1.0</td>\n",
              "      <td>-0.037037</td>\n",
              "      <td>-0.538462</td>\n",
              "      <td>-0.537736</td>\n",
              "      <td>-0.525424</td>\n",
              "      <td>-0.196429</td>\n",
              "      <td>0.815789</td>\n",
              "      <td>-0.826087</td>\n",
              "      <td>-0.754601</td>\n",
              "      <td>-0.984733</td>\n",
              "      <td>-1.000000</td>\n",
              "      <td>-0.976190</td>\n",
              "      <td>-0.979798</td>\n",
              "      <td>0-2</td>\n",
              "      <td>0</td>\n",
              "    </tr>\n",
              "  </tbody>\n",
              "</table>\n",
              "<p>5 rows × 97 columns</p>\n",
              "</div>"
            ],
            "text/plain": [
              "   patient_visit_identifier  age_above65  ...  window  icu\n",
              "0                         0            1  ...     0-2    1\n",
              "1                         2            0  ...     0-2    1\n",
              "2                         3            0  ...     0-2    0\n",
              "3                         4            0  ...     0-2    0\n",
              "4                         5            0  ...     0-2    0\n",
              "\n",
              "[5 rows x 97 columns]"
            ]
          },
          "metadata": {},
          "execution_count": 8
        }
      ]
    },
    {
      "cell_type": "code",
      "metadata": {
        "colab": {
          "base_uri": "https://localhost:8080/"
        },
        "id": "OKmY18RenuHR",
        "outputId": "bb8698c5-183b-4b51-d47b-ecd37363e9cb"
      },
      "source": [
        "# verifica as dimensões do dataframe\n",
        "dimensao_dados(dados)"
      ],
      "execution_count": 9,
      "outputs": [
        {
          "output_type": "stream",
          "text": [
            "O dataframe possui 352 linhas e 97 colunas.\n"
          ],
          "name": "stdout"
        }
      ]
    },
    {
      "cell_type": "markdown",
      "metadata": {
        "id": "sgrx4nppoFMC"
      },
      "source": [
        "O dataframe utilizado aqui informações de **352 pacientes** e **97 features** (colunas) para alimentar os modelos de Machine Learning.\n",
        "\n",
        "A coluna **patient_visit_identifier** será removida dos dados pois não possui informação relevante para a previsão dos modelos."
      ]
    },
    {
      "cell_type": "code",
      "metadata": {
        "colab": {
          "base_uri": "https://localhost:8080/",
          "height": 287
        },
        "id": "tij4FYXz-qGs",
        "outputId": "f57c029a-d58f-49c5-85a4-43b8cf573e49"
      },
      "source": [
        "# remove a coluna\n",
        "dados_ml = dados.drop('patient_visit_identifier', axis=1)\n",
        "dados_ml.head()"
      ],
      "execution_count": 10,
      "outputs": [
        {
          "output_type": "execute_result",
          "data": {
            "text/html": [
              "<div>\n",
              "<style scoped>\n",
              "    .dataframe tbody tr th:only-of-type {\n",
              "        vertical-align: middle;\n",
              "    }\n",
              "\n",
              "    .dataframe tbody tr th {\n",
              "        vertical-align: top;\n",
              "    }\n",
              "\n",
              "    .dataframe thead th {\n",
              "        text-align: right;\n",
              "    }\n",
              "</style>\n",
              "<table border=\"1\" class=\"dataframe\">\n",
              "  <thead>\n",
              "    <tr style=\"text-align: right;\">\n",
              "      <th></th>\n",
              "      <th>age_above65</th>\n",
              "      <th>age_percentil</th>\n",
              "      <th>gender</th>\n",
              "      <th>disease grouping 1</th>\n",
              "      <th>disease grouping 2</th>\n",
              "      <th>disease grouping 3</th>\n",
              "      <th>disease grouping 4</th>\n",
              "      <th>disease grouping 5</th>\n",
              "      <th>disease grouping 6</th>\n",
              "      <th>htn</th>\n",
              "      <th>immunocompromised</th>\n",
              "      <th>other</th>\n",
              "      <th>albumin_median</th>\n",
              "      <th>albumin_diff</th>\n",
              "      <th>be_arterial_median</th>\n",
              "      <th>be_arterial_diff</th>\n",
              "      <th>be_venous_median</th>\n",
              "      <th>be_venous_diff</th>\n",
              "      <th>bic_arterial_median</th>\n",
              "      <th>bic_arterial_diff</th>\n",
              "      <th>bic_venous_median</th>\n",
              "      <th>bic_venous_diff</th>\n",
              "      <th>billirubin_median</th>\n",
              "      <th>billirubin_diff</th>\n",
              "      <th>blast_median</th>\n",
              "      <th>blast_diff</th>\n",
              "      <th>calcium_median</th>\n",
              "      <th>calcium_diff</th>\n",
              "      <th>creatinin_median</th>\n",
              "      <th>creatinin_diff</th>\n",
              "      <th>ffa_median</th>\n",
              "      <th>ffa_diff</th>\n",
              "      <th>ggt_median</th>\n",
              "      <th>ggt_diff</th>\n",
              "      <th>glucose_median</th>\n",
              "      <th>glucose_diff</th>\n",
              "      <th>hematocrite_median</th>\n",
              "      <th>hematocrite_diff</th>\n",
              "      <th>hemoglobin_diff</th>\n",
              "      <th>inr_median</th>\n",
              "      <th>...</th>\n",
              "      <th>pcr_median</th>\n",
              "      <th>pcr_diff</th>\n",
              "      <th>ph_arterial_median</th>\n",
              "      <th>ph_arterial_diff</th>\n",
              "      <th>ph_venous_median</th>\n",
              "      <th>ph_venous_diff</th>\n",
              "      <th>platelets_median</th>\n",
              "      <th>platelets_diff</th>\n",
              "      <th>potassium_median</th>\n",
              "      <th>potassium_diff</th>\n",
              "      <th>sat02_arterial_median</th>\n",
              "      <th>sat02_arterial_diff</th>\n",
              "      <th>sat02_venous_median</th>\n",
              "      <th>sat02_venous_diff</th>\n",
              "      <th>sodium_median</th>\n",
              "      <th>sodium_diff</th>\n",
              "      <th>tgo_median</th>\n",
              "      <th>tgo_diff</th>\n",
              "      <th>tgp_median</th>\n",
              "      <th>tgp_diff</th>\n",
              "      <th>ttpa_median</th>\n",
              "      <th>ttpa_diff</th>\n",
              "      <th>urea_median</th>\n",
              "      <th>urea_diff</th>\n",
              "      <th>dimer_median</th>\n",
              "      <th>dimer_diff</th>\n",
              "      <th>bloodpressure_diastolic_mean</th>\n",
              "      <th>bloodpressure_sistolic_mean</th>\n",
              "      <th>heart_rate_mean</th>\n",
              "      <th>respiratory_rate_mean</th>\n",
              "      <th>temperature_mean</th>\n",
              "      <th>oxygen_saturation_mean</th>\n",
              "      <th>bloodpressure_diastolic_diff</th>\n",
              "      <th>bloodpressure_sistolic_diff</th>\n",
              "      <th>heart_rate_diff</th>\n",
              "      <th>respiratory_rate_diff</th>\n",
              "      <th>temperature_diff</th>\n",
              "      <th>oxygen_saturation_diff</th>\n",
              "      <th>window</th>\n",
              "      <th>icu</th>\n",
              "    </tr>\n",
              "  </thead>\n",
              "  <tbody>\n",
              "    <tr>\n",
              "      <th>0</th>\n",
              "      <td>1</td>\n",
              "      <td>5</td>\n",
              "      <td>0</td>\n",
              "      <td>0.0</td>\n",
              "      <td>0.0</td>\n",
              "      <td>0.0</td>\n",
              "      <td>0.0</td>\n",
              "      <td>1.0</td>\n",
              "      <td>1.0</td>\n",
              "      <td>0.0</td>\n",
              "      <td>0.0</td>\n",
              "      <td>1.0</td>\n",
              "      <td>0.605263</td>\n",
              "      <td>-1.0</td>\n",
              "      <td>-1.0</td>\n",
              "      <td>-1.0</td>\n",
              "      <td>-1.0</td>\n",
              "      <td>-1.0</td>\n",
              "      <td>-0.317073</td>\n",
              "      <td>-1.0</td>\n",
              "      <td>-0.317073</td>\n",
              "      <td>-1.0</td>\n",
              "      <td>-0.938950</td>\n",
              "      <td>-1.0</td>\n",
              "      <td>-1.0</td>\n",
              "      <td>-1.0</td>\n",
              "      <td>0.183673</td>\n",
              "      <td>-1.0</td>\n",
              "      <td>-0.868365</td>\n",
              "      <td>-1.0</td>\n",
              "      <td>-0.742004</td>\n",
              "      <td>-1.0</td>\n",
              "      <td>-0.945093</td>\n",
              "      <td>-1.0</td>\n",
              "      <td>-0.891993</td>\n",
              "      <td>-1.0</td>\n",
              "      <td>0.090147</td>\n",
              "      <td>-1.0</td>\n",
              "      <td>-1.0</td>\n",
              "      <td>-0.932246</td>\n",
              "      <td>...</td>\n",
              "      <td>-0.875236</td>\n",
              "      <td>-1.0</td>\n",
              "      <td>0.234043</td>\n",
              "      <td>-1.0</td>\n",
              "      <td>0.363636</td>\n",
              "      <td>-1.0</td>\n",
              "      <td>-0.540721</td>\n",
              "      <td>-1.0</td>\n",
              "      <td>-0.518519</td>\n",
              "      <td>-1.0</td>\n",
              "      <td>0.939394</td>\n",
              "      <td>-1.0</td>\n",
              "      <td>0.345679</td>\n",
              "      <td>-1.0</td>\n",
              "      <td>-0.028571</td>\n",
              "      <td>-1.0</td>\n",
              "      <td>-0.997201</td>\n",
              "      <td>-1.0</td>\n",
              "      <td>-0.990854</td>\n",
              "      <td>-1.0</td>\n",
              "      <td>-0.825613</td>\n",
              "      <td>-1.0</td>\n",
              "      <td>-0.836145</td>\n",
              "      <td>-1.0</td>\n",
              "      <td>-0.994912</td>\n",
              "      <td>-1.0</td>\n",
              "      <td>0.086420</td>\n",
              "      <td>-0.230769</td>\n",
              "      <td>-0.283019</td>\n",
              "      <td>-0.593220</td>\n",
              "      <td>-0.285714</td>\n",
              "      <td>0.736842</td>\n",
              "      <td>-1.000000</td>\n",
              "      <td>-1.000000</td>\n",
              "      <td>-1.000000</td>\n",
              "      <td>-1.000000</td>\n",
              "      <td>-1.000000</td>\n",
              "      <td>-1.000000</td>\n",
              "      <td>0-2</td>\n",
              "      <td>1</td>\n",
              "    </tr>\n",
              "    <tr>\n",
              "      <th>1</th>\n",
              "      <td>0</td>\n",
              "      <td>0</td>\n",
              "      <td>0</td>\n",
              "      <td>0.0</td>\n",
              "      <td>0.0</td>\n",
              "      <td>0.0</td>\n",
              "      <td>0.0</td>\n",
              "      <td>0.0</td>\n",
              "      <td>0.0</td>\n",
              "      <td>0.0</td>\n",
              "      <td>0.0</td>\n",
              "      <td>1.0</td>\n",
              "      <td>0.605263</td>\n",
              "      <td>-1.0</td>\n",
              "      <td>-1.0</td>\n",
              "      <td>-1.0</td>\n",
              "      <td>-1.0</td>\n",
              "      <td>-1.0</td>\n",
              "      <td>-0.317073</td>\n",
              "      <td>-1.0</td>\n",
              "      <td>-0.317073</td>\n",
              "      <td>-1.0</td>\n",
              "      <td>-0.938950</td>\n",
              "      <td>-1.0</td>\n",
              "      <td>-1.0</td>\n",
              "      <td>-1.0</td>\n",
              "      <td>0.357143</td>\n",
              "      <td>-1.0</td>\n",
              "      <td>-0.912243</td>\n",
              "      <td>-1.0</td>\n",
              "      <td>-0.742004</td>\n",
              "      <td>-1.0</td>\n",
              "      <td>-0.958528</td>\n",
              "      <td>-1.0</td>\n",
              "      <td>-0.780261</td>\n",
              "      <td>-1.0</td>\n",
              "      <td>0.144654</td>\n",
              "      <td>-1.0</td>\n",
              "      <td>-1.0</td>\n",
              "      <td>-0.959849</td>\n",
              "      <td>...</td>\n",
              "      <td>-0.939887</td>\n",
              "      <td>-1.0</td>\n",
              "      <td>0.234043</td>\n",
              "      <td>-1.0</td>\n",
              "      <td>0.363636</td>\n",
              "      <td>-1.0</td>\n",
              "      <td>-0.399199</td>\n",
              "      <td>-1.0</td>\n",
              "      <td>-0.703704</td>\n",
              "      <td>-1.0</td>\n",
              "      <td>0.939394</td>\n",
              "      <td>-1.0</td>\n",
              "      <td>0.345679</td>\n",
              "      <td>-1.0</td>\n",
              "      <td>0.085714</td>\n",
              "      <td>-1.0</td>\n",
              "      <td>-0.995428</td>\n",
              "      <td>-1.0</td>\n",
              "      <td>-0.986662</td>\n",
              "      <td>-1.0</td>\n",
              "      <td>-0.846633</td>\n",
              "      <td>-1.0</td>\n",
              "      <td>-0.836145</td>\n",
              "      <td>-1.0</td>\n",
              "      <td>-0.978029</td>\n",
              "      <td>-1.0</td>\n",
              "      <td>-0.489712</td>\n",
              "      <td>-0.685470</td>\n",
              "      <td>-0.048218</td>\n",
              "      <td>-0.645951</td>\n",
              "      <td>0.357143</td>\n",
              "      <td>0.935673</td>\n",
              "      <td>-0.547826</td>\n",
              "      <td>-0.533742</td>\n",
              "      <td>-0.603053</td>\n",
              "      <td>-0.764706</td>\n",
              "      <td>-1.000000</td>\n",
              "      <td>-0.959596</td>\n",
              "      <td>0-2</td>\n",
              "      <td>1</td>\n",
              "    </tr>\n",
              "    <tr>\n",
              "      <th>2</th>\n",
              "      <td>0</td>\n",
              "      <td>3</td>\n",
              "      <td>1</td>\n",
              "      <td>0.0</td>\n",
              "      <td>0.0</td>\n",
              "      <td>0.0</td>\n",
              "      <td>0.0</td>\n",
              "      <td>0.0</td>\n",
              "      <td>0.0</td>\n",
              "      <td>0.0</td>\n",
              "      <td>1.0</td>\n",
              "      <td>1.0</td>\n",
              "      <td>-0.263158</td>\n",
              "      <td>-1.0</td>\n",
              "      <td>-1.0</td>\n",
              "      <td>-1.0</td>\n",
              "      <td>-1.0</td>\n",
              "      <td>-1.0</td>\n",
              "      <td>-0.317073</td>\n",
              "      <td>-1.0</td>\n",
              "      <td>-0.317073</td>\n",
              "      <td>-1.0</td>\n",
              "      <td>-0.972789</td>\n",
              "      <td>-1.0</td>\n",
              "      <td>-1.0</td>\n",
              "      <td>-1.0</td>\n",
              "      <td>0.326531</td>\n",
              "      <td>-1.0</td>\n",
              "      <td>-0.968861</td>\n",
              "      <td>-1.0</td>\n",
              "      <td>-0.194030</td>\n",
              "      <td>-1.0</td>\n",
              "      <td>-0.316589</td>\n",
              "      <td>-1.0</td>\n",
              "      <td>-0.891993</td>\n",
              "      <td>-1.0</td>\n",
              "      <td>-0.203354</td>\n",
              "      <td>-1.0</td>\n",
              "      <td>-1.0</td>\n",
              "      <td>-0.959849</td>\n",
              "      <td>...</td>\n",
              "      <td>-0.503592</td>\n",
              "      <td>-1.0</td>\n",
              "      <td>0.234043</td>\n",
              "      <td>-1.0</td>\n",
              "      <td>0.363636</td>\n",
              "      <td>-1.0</td>\n",
              "      <td>-0.564753</td>\n",
              "      <td>-1.0</td>\n",
              "      <td>-0.777778</td>\n",
              "      <td>-1.0</td>\n",
              "      <td>0.939394</td>\n",
              "      <td>-1.0</td>\n",
              "      <td>0.580247</td>\n",
              "      <td>-1.0</td>\n",
              "      <td>0.200000</td>\n",
              "      <td>-1.0</td>\n",
              "      <td>-0.989549</td>\n",
              "      <td>-1.0</td>\n",
              "      <td>-0.956555</td>\n",
              "      <td>-1.0</td>\n",
              "      <td>-0.846633</td>\n",
              "      <td>-1.0</td>\n",
              "      <td>-0.937349</td>\n",
              "      <td>-1.0</td>\n",
              "      <td>-0.978029</td>\n",
              "      <td>-1.0</td>\n",
              "      <td>0.012346</td>\n",
              "      <td>-0.369231</td>\n",
              "      <td>-0.528302</td>\n",
              "      <td>-0.457627</td>\n",
              "      <td>-0.285714</td>\n",
              "      <td>0.684211</td>\n",
              "      <td>-1.000000</td>\n",
              "      <td>-1.000000</td>\n",
              "      <td>-1.000000</td>\n",
              "      <td>-1.000000</td>\n",
              "      <td>-1.000000</td>\n",
              "      <td>-1.000000</td>\n",
              "      <td>0-2</td>\n",
              "      <td>0</td>\n",
              "    </tr>\n",
              "    <tr>\n",
              "      <th>3</th>\n",
              "      <td>0</td>\n",
              "      <td>0</td>\n",
              "      <td>0</td>\n",
              "      <td>0.0</td>\n",
              "      <td>0.0</td>\n",
              "      <td>0.0</td>\n",
              "      <td>0.0</td>\n",
              "      <td>0.0</td>\n",
              "      <td>0.0</td>\n",
              "      <td>0.0</td>\n",
              "      <td>0.0</td>\n",
              "      <td>1.0</td>\n",
              "      <td>0.605263</td>\n",
              "      <td>-1.0</td>\n",
              "      <td>-1.0</td>\n",
              "      <td>-1.0</td>\n",
              "      <td>-1.0</td>\n",
              "      <td>-1.0</td>\n",
              "      <td>-0.317073</td>\n",
              "      <td>-1.0</td>\n",
              "      <td>-0.317073</td>\n",
              "      <td>-1.0</td>\n",
              "      <td>-0.935113</td>\n",
              "      <td>-1.0</td>\n",
              "      <td>-1.0</td>\n",
              "      <td>-1.0</td>\n",
              "      <td>0.357143</td>\n",
              "      <td>-1.0</td>\n",
              "      <td>-0.913659</td>\n",
              "      <td>-1.0</td>\n",
              "      <td>-0.829424</td>\n",
              "      <td>-1.0</td>\n",
              "      <td>-0.938084</td>\n",
              "      <td>-1.0</td>\n",
              "      <td>-0.851024</td>\n",
              "      <td>-1.0</td>\n",
              "      <td>0.358491</td>\n",
              "      <td>-1.0</td>\n",
              "      <td>-1.0</td>\n",
              "      <td>-0.959849</td>\n",
              "      <td>...</td>\n",
              "      <td>-0.990926</td>\n",
              "      <td>-1.0</td>\n",
              "      <td>0.234043</td>\n",
              "      <td>-1.0</td>\n",
              "      <td>0.363636</td>\n",
              "      <td>-1.0</td>\n",
              "      <td>-0.457944</td>\n",
              "      <td>-1.0</td>\n",
              "      <td>-0.592593</td>\n",
              "      <td>-1.0</td>\n",
              "      <td>0.939394</td>\n",
              "      <td>-1.0</td>\n",
              "      <td>0.345679</td>\n",
              "      <td>-1.0</td>\n",
              "      <td>0.142857</td>\n",
              "      <td>-1.0</td>\n",
              "      <td>-0.998507</td>\n",
              "      <td>-1.0</td>\n",
              "      <td>-0.991235</td>\n",
              "      <td>-1.0</td>\n",
              "      <td>-0.846633</td>\n",
              "      <td>-1.0</td>\n",
              "      <td>-0.903614</td>\n",
              "      <td>-1.0</td>\n",
              "      <td>-1.000000</td>\n",
              "      <td>-1.0</td>\n",
              "      <td>0.333333</td>\n",
              "      <td>-0.153846</td>\n",
              "      <td>0.160377</td>\n",
              "      <td>-0.593220</td>\n",
              "      <td>0.285714</td>\n",
              "      <td>0.868421</td>\n",
              "      <td>-1.000000</td>\n",
              "      <td>-0.877301</td>\n",
              "      <td>-0.923664</td>\n",
              "      <td>-0.882353</td>\n",
              "      <td>-0.952381</td>\n",
              "      <td>-0.979798</td>\n",
              "      <td>0-2</td>\n",
              "      <td>0</td>\n",
              "    </tr>\n",
              "    <tr>\n",
              "      <th>4</th>\n",
              "      <td>0</td>\n",
              "      <td>0</td>\n",
              "      <td>0</td>\n",
              "      <td>0.0</td>\n",
              "      <td>0.0</td>\n",
              "      <td>0.0</td>\n",
              "      <td>0.0</td>\n",
              "      <td>0.0</td>\n",
              "      <td>0.0</td>\n",
              "      <td>0.0</td>\n",
              "      <td>0.0</td>\n",
              "      <td>1.0</td>\n",
              "      <td>0.605263</td>\n",
              "      <td>-1.0</td>\n",
              "      <td>-1.0</td>\n",
              "      <td>-1.0</td>\n",
              "      <td>-1.0</td>\n",
              "      <td>-1.0</td>\n",
              "      <td>-0.317073</td>\n",
              "      <td>-1.0</td>\n",
              "      <td>-0.317073</td>\n",
              "      <td>-1.0</td>\n",
              "      <td>-0.938950</td>\n",
              "      <td>-1.0</td>\n",
              "      <td>-1.0</td>\n",
              "      <td>-1.0</td>\n",
              "      <td>0.357143</td>\n",
              "      <td>-1.0</td>\n",
              "      <td>-0.891012</td>\n",
              "      <td>-1.0</td>\n",
              "      <td>-0.742004</td>\n",
              "      <td>-1.0</td>\n",
              "      <td>-0.958528</td>\n",
              "      <td>-1.0</td>\n",
              "      <td>-0.891993</td>\n",
              "      <td>-1.0</td>\n",
              "      <td>0.291405</td>\n",
              "      <td>-1.0</td>\n",
              "      <td>-1.0</td>\n",
              "      <td>-0.959849</td>\n",
              "      <td>...</td>\n",
              "      <td>-0.997732</td>\n",
              "      <td>-1.0</td>\n",
              "      <td>0.234043</td>\n",
              "      <td>-1.0</td>\n",
              "      <td>0.363636</td>\n",
              "      <td>-1.0</td>\n",
              "      <td>-0.292390</td>\n",
              "      <td>-1.0</td>\n",
              "      <td>-0.666667</td>\n",
              "      <td>-1.0</td>\n",
              "      <td>0.939394</td>\n",
              "      <td>-1.0</td>\n",
              "      <td>0.345679</td>\n",
              "      <td>-1.0</td>\n",
              "      <td>0.085714</td>\n",
              "      <td>-1.0</td>\n",
              "      <td>-0.997947</td>\n",
              "      <td>-1.0</td>\n",
              "      <td>-0.988948</td>\n",
              "      <td>-1.0</td>\n",
              "      <td>-0.846633</td>\n",
              "      <td>-1.0</td>\n",
              "      <td>-0.884337</td>\n",
              "      <td>-1.0</td>\n",
              "      <td>-1.000000</td>\n",
              "      <td>-1.0</td>\n",
              "      <td>-0.037037</td>\n",
              "      <td>-0.538462</td>\n",
              "      <td>-0.537736</td>\n",
              "      <td>-0.525424</td>\n",
              "      <td>-0.196429</td>\n",
              "      <td>0.815789</td>\n",
              "      <td>-0.826087</td>\n",
              "      <td>-0.754601</td>\n",
              "      <td>-0.984733</td>\n",
              "      <td>-1.000000</td>\n",
              "      <td>-0.976190</td>\n",
              "      <td>-0.979798</td>\n",
              "      <td>0-2</td>\n",
              "      <td>0</td>\n",
              "    </tr>\n",
              "  </tbody>\n",
              "</table>\n",
              "<p>5 rows × 96 columns</p>\n",
              "</div>"
            ],
            "text/plain": [
              "   age_above65  age_percentil  gender  ...  oxygen_saturation_diff  window  icu\n",
              "0            1              5       0  ...               -1.000000     0-2    1\n",
              "1            0              0       0  ...               -0.959596     0-2    1\n",
              "2            0              3       1  ...               -1.000000     0-2    0\n",
              "3            0              0       0  ...               -0.979798     0-2    0\n",
              "4            0              0       0  ...               -0.979798     0-2    0\n",
              "\n",
              "[5 rows x 96 columns]"
            ]
          },
          "metadata": {},
          "execution_count": 10
        }
      ]
    },
    {
      "cell_type": "code",
      "metadata": {
        "colab": {
          "base_uri": "https://localhost:8080/"
        },
        "id": "-4aDAAE8_CC8",
        "outputId": "c25cb027-a6e8-4255-ac31-bcdab4f0e0e9"
      },
      "source": [
        "# verifica as dimensões do dataframe\n",
        "dimensao_dados(dados_ml)"
      ],
      "execution_count": 11,
      "outputs": [
        {
          "output_type": "stream",
          "text": [
            "O dataframe possui 352 linhas e 96 colunas.\n"
          ],
          "name": "stdout"
        }
      ]
    },
    {
      "cell_type": "markdown",
      "metadata": {
        "id": "BkS77hxj6ift"
      },
      "source": [
        "# Teste dos Modelos de Machine Learning\n",
        "\n",
        "## Modelo Random Forest Classifier\n",
        "\n",
        "O modelo de **Machine Learning Random Forest Classifier** é definido pelo SciKit Learn como um meta estimador que utiliza um número de árvores de decisão em variadas amostras do dataframe e utiliza média para melhorar a eficácia das previsões e controlar o overfitting.\n",
        "\n",
        "Os **hiperparâmetros** informados para o modelo são:\n",
        "\n",
        "**n_estimators**: número de árvores de decisão criadas\n",
        "\n",
        "**criterion**: a função utilizada para medir a qualidade da divisão nas árvores\n",
        "\n",
        "**max_depth**: a máxima profundidade das árvores\n",
        "\n",
        "**max_features**: o número máximo de features a ser considerado em uma divisão das árvores de decisão\n",
        "\n",
        "Abaixo serão testados diferentes hiperparâmetros para o modelo.\n"
      ]
    },
    {
      "cell_type": "code",
      "metadata": {
        "colab": {
          "base_uri": "https://localhost:8080/"
        },
        "id": "31aPECm8oAMv",
        "outputId": "f62a0e76-977a-4662-dc5c-78c2b867e070"
      },
      "source": [
        "# dicionário com os valores dos hiperparâmetros a serem testados\n",
        "hiper_param_rfc = {\n",
        "    'n_estimators' : [50, 100, 200],\n",
        "    'criterion' : ['gini', 'entropy'],\n",
        "    'max_depth' : [None, 3, 5, 10],\n",
        "    'max_features' : [None, 'auto', 0.5]\n",
        "}\n",
        "\n",
        "# instancia o modelo Random Forest Classifier\n",
        "modelo_rfc = RandomForestClassifier(random_state=481516)\n",
        "\n",
        "# testa os hiperparâmetros\n",
        "teste_hiperparametro(modelo_rfc, dados_ml, hiper_param_rfc)"
      ],
      "execution_count": 12,
      "outputs": [
        {
          "output_type": "execute_result",
          "data": {
            "text/plain": [
              "({'criterion': 'entropy',\n",
              "  'max_depth': 5,\n",
              "  'max_features': 'auto',\n",
              "  'n_estimators': 100},\n",
              " 0.8019866292728135)"
            ]
          },
          "metadata": {},
          "execution_count": 12
        }
      ]
    },
    {
      "cell_type": "markdown",
      "metadata": {
        "id": "dAMxhWvBKYfP"
      },
      "source": [
        "Para o modelo Random Forest Classifier os melhores parâmetros escolhidos por **RandomizedSearchCV** foram:\n",
        "\n",
        "**criterion**: entropy\n",
        "\n",
        "**max_depth**: 5\n",
        "\n",
        "**max_features**: auto\n",
        "\n",
        "**n_estimators**: 100\n",
        "\n",
        "E o **AUC** encontrado pela **validação cruzada** realizado pelo RandomizedSearchCV foi **0.80**.\n",
        "\n",
        "Valores maiores foram testados nos parâmetros **max_depth** e **n_estimators** mas o tempo adicional de processamente não era justificado na melhora do resultado.\n",
        "\n",
        "Com os hiperparâmetros definidos é possível continuar com o modelo."
      ]
    },
    {
      "cell_type": "code",
      "metadata": {
        "id": "HnPAdK0i_VVQ"
      },
      "source": [
        "# instancia o modelo\n",
        "modelo_rfc = RandomForestClassifier(criterion='entropy', max_depth=5, max_features='auto',\n",
        "                                    n_estimators=100, random_state=481516)"
      ],
      "execution_count": 13,
      "outputs": []
    },
    {
      "cell_type": "code",
      "metadata": {
        "id": "CEdLnRZcZUjZ"
      },
      "source": [
        "# função para divisão dos dados em treino e teste\n",
        "x_train, x_test, y_train, y_test = divide_dados(dados_ml)"
      ],
      "execution_count": 14,
      "outputs": []
    },
    {
      "cell_type": "markdown",
      "metadata": {
        "id": "TZx0ljy_6NI5"
      },
      "source": [
        "Essa divisão dos dados será utilizada para os demais modelos testados."
      ]
    },
    {
      "cell_type": "code",
      "metadata": {
        "id": "xYXI2VNlHfDI"
      },
      "source": [
        "# treina o modelo\n",
        "modelo_rfc.fit(x_train, y_train)\n",
        "\n",
        "# realiza a previsão\n",
        "predicao_rfc = modelo_rfc.predict(x_test)\n",
        "\n",
        "# verifica a probabilidade da previsão\n",
        "prob_prev_rfc = modelo_rfc.predict_proba(x_test)"
      ],
      "execution_count": 15,
      "outputs": []
    },
    {
      "cell_type": "markdown",
      "metadata": {
        "id": "JPE9JDblIdY_"
      },
      "source": [
        "### Avaliação do Modelo Random Forest Classifier\n",
        "\n",
        "Após o treinamento e a previsão dos dados é possível verificar o quão bem foi essa previsão com base no dados reais. Para verificar isso serão utilizadas as métricas **Classification Report**, **AUC** e **Matriz de Confusão**."
      ]
    },
    {
      "cell_type": "code",
      "metadata": {
        "colab": {
          "base_uri": "https://localhost:8080/"
        },
        "id": "XQBod9iTIWfB",
        "outputId": "0ece9e72-7c70-49ab-da01-1e09b93cfaef"
      },
      "source": [
        "# imprime o Classification Report\n",
        "print('Classification Report:')\n",
        "print(classification_report(y_test, predicao_rfc))"
      ],
      "execution_count": 16,
      "outputs": [
        {
          "output_type": "stream",
          "text": [
            "Classification Report:\n",
            "              precision    recall  f1-score   support\n",
            "\n",
            "           0       0.73      0.84      0.78        38\n",
            "           1       0.78      0.64      0.70        33\n",
            "\n",
            "    accuracy                           0.75        71\n",
            "   macro avg       0.75      0.74      0.74        71\n",
            "weighted avg       0.75      0.75      0.74        71\n",
            "\n"
          ],
          "name": "stdout"
        }
      ]
    },
    {
      "cell_type": "markdown",
      "metadata": {
        "id": "e8Z4UjOqJwnh"
      },
      "source": [
        "O **Classification Report** acima demonstra a performance do modelo de Random Forest:\n",
        "\n",
        "Na coluna **Precision**:\n",
        "\n",
        "Dentro de todas as previsões indicando que o paciente não precisa de UTI, o modelo acertou 73%.\n",
        "\n",
        "Dentro de todas as previsões indicando que o paciente precisa de UTI, o modelo acertou 78%.\n",
        "\n",
        "Na coluna **Recall**:\n",
        "\n",
        "Considerando os pacientes que não foram para a UTI, o modelo acertou a previsão para 84% desses pacientes.\n",
        "\n",
        "Considerando os pacientes que foram para a UTI, o modelo acertou a previsão para 64% desses pacientes."
      ]
    },
    {
      "cell_type": "code",
      "metadata": {
        "colab": {
          "base_uri": "https://localhost:8080/"
        },
        "id": "GGOmw2sXJl88",
        "outputId": "2efd07d7-bce5-4860-9cde-3ea58b64f503"
      },
      "source": [
        "# calcula o AUC do modelo\n",
        "auc = roc_auc_score(y_test, prob_prev_rfc[:, 1])\n",
        "\n",
        "# imprime o valor do AUC\n",
        "print(f'O AUC para o modelo Random Forest Classifier é: {auc}')"
      ],
      "execution_count": 17,
      "outputs": [
        {
          "output_type": "stream",
          "text": [
            "O AUC para o modelo Random Forest Classifier é: 0.7822966507177034\n"
          ],
          "name": "stdout"
        }
      ]
    },
    {
      "cell_type": "code",
      "metadata": {
        "colab": {
          "base_uri": "https://localhost:8080/",
          "height": 648
        },
        "id": "fPTqkIbjO23E",
        "outputId": "721c8a3c-6b2c-4bbf-a86d-255220c687be"
      },
      "source": [
        "# função para plotar a curva ROC\n",
        "plota_curva_roc(modelo_rfc, 'Random Forest', dados_ml, 'darkgreen')"
      ],
      "execution_count": 18,
      "outputs": [
        {
          "output_type": "display_data",
          "data": {
            "image/png": "[encoded data removed]",
            "text/plain": [
              "<Figure size 720x720 with 1 Axes>"
            ]
          },
          "metadata": {
            "needs_background": "light"
          }
        }
      ]
    },
    {
      "cell_type": "markdown",
      "metadata": {
        "id": "wWH-E-jabJu2"
      },
      "source": [
        "As informações acima, **AUC e Curva ROC**, demonstram que o modelo tem um AUC de **0.78**. Esse valor isolado não é ruim, mas quanto é acertado pelo modelo quando paciente precisa ir para a UTI e quando paciente não precisa?\n",
        "\n",
        "A **Matriz de Confusão** pode ser usada para ver essa métrica."
      ]
    },
    {
      "cell_type": "code",
      "metadata": {
        "colab": {
          "base_uri": "https://localhost:8080/",
          "height": 553
        },
        "id": "lohyE-g-Yvyi",
        "outputId": "e74405ef-50d3-45be-b3f2-76826e4e1206"
      },
      "source": [
        "# plota a matriz de confusão\n",
        "plota_matriz_confusa(modelo_rfc, 'Random Forest', dados_ml, 'Greens')"
      ],
      "execution_count": 19,
      "outputs": [
        {
          "output_type": "display_data",
          "data": {
            "image/png": "[encoded data removed]",
            "text/plain": [
              "<Figure size 720x720 with 1 Axes>"
            ]
          },
          "metadata": {
            "needs_background": "light"
          }
        }
      ]
    },
    {
      "cell_type": "markdown",
      "metadata": {
        "id": "CW7GFDIpcL1A"
      },
      "source": [
        "A **matriz** acima mostra os **valores reais** e os que foram **previstos** pelo modelo.\n",
        "\n",
        "Na matriz temos as informações:\n",
        "- 33 pacientes precisaram de UTI, o **modelo classificou corretamente 21 desses pacientes - 64%**.\n",
        "\n",
        "- 38 pacientes não precisaram de UTI, o **modelo classificou corretamente 32 desses pacientes - 84%**.\n",
        "\n",
        "**O modelo não prever corretamente que 12 pessoas (36% do total de pessoas que precisaram de UTI) precisariam de UTI é crítico**.\n",
        "\n",
        "Já sobre os dados de pacientes que não precisaram de UTI, o **modelo errou somente 6 pessoas (16% do total de pacientes que não precisaram de UTI)**.\n",
        "\n",
        "O modelo tem uma porcentagem de acerto boa para dizer se o paciente não precisará de UTI, mas os falsos negativos são críticos nessa situação. Ao dizer que um paciente não precisa de UTI, e na realidade ele necessita, a doença pode se agravar antes do paciente ter os cuidados necessários.\n",
        "\n",
        "Para verificar se esses são os valores encontrados com todos os dados ou somente com essa porção será realizada uma **validação cruzada**."
      ]
    },
    {
      "cell_type": "code",
      "metadata": {
        "colab": {
          "base_uri": "https://localhost:8080/"
        },
        "id": "8kioS-M2pJOG",
        "outputId": "1664ef21-6014-49dd-895d-4669dad732f2"
      },
      "source": [
        "# realiza validação cruzada do modelo\n",
        "cv_modelo(modelo_rfc, dados_ml, 5, 10)"
      ],
      "execution_count": 20,
      "outputs": [
        {
          "output_type": "stream",
          "text": [
            "AUC médio para os dados de teste: 0.8026639618086988\n",
            "AUC médio para os dados de treino: 0.9784580485772651\n",
            "Intervalo da AUC para os dados de teste: 0.6979367764546488 - 0.9073911471627488\n"
          ],
          "name": "stdout"
        },
        {
          "output_type": "execute_result",
          "data": {
            "text/plain": [
              "(0.8026639618086988, 0.9784580485772651)"
            ]
          },
          "metadata": {},
          "execution_count": 20
        }
      ]
    },
    {
      "cell_type": "markdown",
      "metadata": {
        "id": "M9AWR-E1qAHS"
      },
      "source": [
        "Na informação acima um **AUC médio de 0.80** foi encontrado nos dados de teste, muito próximo ao encontrado anteriormente (0.78).\n",
        "\n",
        "O **intervalo** informado foi calculado através do **desvio padrão** e mostra uma variação do AUC de **0.70 a 0.90**. Essa variação ocorre devido a porção dos dados que são selecionadas para realizar o treino e teste na validação cruzada."
      ]
    },
    {
      "cell_type": "markdown",
      "metadata": {
        "id": "8I1GB-veodKX"
      },
      "source": [
        "### Modelo Logistic Regression\n",
        "\n",
        "A regressão logística é uma técnica estatística que tem como objetivo produzir, a partir de um conjunto de observações, um modelo que permita a predição de valores tomados por uma variável categórica, frequentemente binária, a partir de uma série de variáveis explicativas contínuas e/ou binárias.\n",
        "\n",
        "Os **hiperparâmetros** informado para o modelo de **Logistic Regression** são:\n",
        "\n",
        "- **C**: parâmetro de regularização inversa, precisa ser um número float positivo;\n",
        "\n",
        "- **solver**: algoritmo a ser utilizado na otimização do problema;\n",
        "\n",
        "- **max_iter**: número máximo de iterações tomadas dos solvers.\n",
        "\n",
        "- **penalty**: especifica a norma a ser utilizada na penalização da regularização."
      ]
    },
    {
      "cell_type": "code",
      "metadata": {
        "colab": {
          "base_uri": "https://localhost:8080/"
        },
        "id": "orgtCcE2cD8U",
        "outputId": "ecb42e93-dc7f-49c3-ecc5-2d3df2b580ab"
      },
      "source": [
        "# dicionário com os hiperparâmetros\n",
        "hiper_param_lr = {\n",
        "    'penalty' : ['l1', 'l2', 'elasticnet', 'none'],\n",
        "    'C' : [0.2, 0.5, 1.0, 2.0, 3.0],\n",
        "    'solver' : ['lbfgs', 'liblinear', 'newton-cg', 'sag', 'saga'],\n",
        "    'max_iter' : [50, 100, 200, 500]\n",
        "}\n",
        "\n",
        "# instância o modelo\n",
        "modelo_lr = LogisticRegression(random_state=481516)\n",
        "\n",
        "# testa os hiperparâmetros\n",
        "teste_hiperparametro(modelo_lr, dados_ml, hiper_param_lr)"
      ],
      "execution_count": 21,
      "outputs": [
        {
          "output_type": "execute_result",
          "data": {
            "text/plain": [
              "({'C': 1.0, 'max_iter': 50, 'penalty': 'l2', 'solver': 'newton-cg'},\n",
              " 0.7693819237898184)"
            ]
          },
          "metadata": {},
          "execution_count": 21
        }
      ]
    },
    {
      "cell_type": "markdown",
      "metadata": {
        "id": "7ob0C_357IAd"
      },
      "source": [
        "Os **hiperparâmetros selecionados** como os melhores para o modelo Logistic Regression foram:\n",
        "\n",
        "- penalty: **l2**\n",
        "\n",
        "- C: **1.0**\n",
        "\n",
        "- solver: **newton-cg**\n",
        "\n",
        "- max_iter: **100**\n",
        "\n",
        "E o AUC encontrado pela validação cruzada realizada pelo RandomizedSearchCV foi **0.76**.\n",
        "\n",
        "*Ao tentar executar o modelo com o valor 50 do max_iter, um warning aconteceu informando que o número de iterações atingiu o limite. Por esse motivo o valor foi alterado para 100.*"
      ]
    },
    {
      "cell_type": "code",
      "metadata": {
        "id": "QcgNXmlmv6Ja"
      },
      "source": [
        "# instancia o modelo com os hiperparâmetros informados\n",
        "modelo_lr = LogisticRegression(penalty='l2', C=1.0, solver='newton-cg',\n",
        "                               max_iter=100, random_state=481516)"
      ],
      "execution_count": 22,
      "outputs": []
    },
    {
      "cell_type": "markdown",
      "metadata": {
        "id": "E7GlfEdw-KRl"
      },
      "source": [
        "Os dados já foram divididos para o modelo Random Forest, não há necessidade de dividir novamente."
      ]
    },
    {
      "cell_type": "code",
      "metadata": {
        "id": "ivmLMKOq-QRI"
      },
      "source": [
        "# treina o modelo\n",
        "modelo_lr.fit(x_train, y_train)\n",
        "\n",
        "# realiza a previsão\n",
        "previsao_lr = modelo_lr.predict(x_test)\n",
        "\n",
        "# verifica a probabilidade da previsão\n",
        "prob_prev_lr = modelo_lr.predict_proba(x_test)"
      ],
      "execution_count": 23,
      "outputs": []
    },
    {
      "cell_type": "markdown",
      "metadata": {
        "id": "uDxmFRaO_ccF"
      },
      "source": [
        "### Avaliação do modelo Logistic Regression\n",
        "\n",
        "Como para o modelo Random Forest, aqui serão avaliadas as métricas informadas pelo **Classification Report**, **ROC AUC** e **Matriz de Confusão**."
      ]
    },
    {
      "cell_type": "code",
      "metadata": {
        "colab": {
          "base_uri": "https://localhost:8080/"
        },
        "id": "l85rdKWF-wPE",
        "outputId": "8ed9099d-6c72-422c-b75b-c958eccdbf8a"
      },
      "source": [
        "# imprime o Classification Report\n",
        "print('Classification Report:\\n')\n",
        "print(classification_report(y_test, previsao_lr))"
      ],
      "execution_count": 24,
      "outputs": [
        {
          "output_type": "stream",
          "text": [
            "Classification Report:\n",
            "\n",
            "              precision    recall  f1-score   support\n",
            "\n",
            "           0       0.72      0.82      0.77        38\n",
            "           1       0.75      0.64      0.69        33\n",
            "\n",
            "    accuracy                           0.73        71\n",
            "   macro avg       0.74      0.73      0.73        71\n",
            "weighted avg       0.73      0.73      0.73        71\n",
            "\n"
          ],
          "name": "stdout"
        }
      ]
    },
    {
      "cell_type": "markdown",
      "metadata": {
        "id": "uAHm6nfNM14v"
      },
      "source": [
        "O **Classification Report** acima demonstra a performance do modelo de **Logistic Regression**:\n",
        "\n",
        "Na coluna **Precision**:\n",
        "\n",
        "Dentro de todas as previsões indicando que o paciente não precisa de UTI, o modelo acertou 72%.\n",
        "\n",
        "Dentro de todas as previsões indicando que o paciente precisa de UTI, o modelo acertou 75%.\n",
        "\n",
        "Na coluna **Recall**:\n",
        "\n",
        "Considerando os pacientes que não foram para a UTI, o modelo acertou a previsão para 82% desses pacientes.\n",
        "\n",
        "Considerando os pacientes que foram para a UTI, o modelo acertou a previsão para 64% desses pacientes."
      ]
    },
    {
      "cell_type": "code",
      "metadata": {
        "colab": {
          "base_uri": "https://localhost:8080/"
        },
        "id": "2JJfM0IHNAi8",
        "outputId": "3507a1c2-d205-44cd-f7d9-405ae024c933"
      },
      "source": [
        "# calcula o AUC do modelo\n",
        "auc = roc_auc_score(y_test, prob_prev_lr[:, 1])\n",
        "\n",
        "# imprime o valor do AUC\n",
        "print(f'O AUC para o modelo Random Forest Classifier é: {auc}')"
      ],
      "execution_count": 25,
      "outputs": [
        {
          "output_type": "stream",
          "text": [
            "O AUC para o modelo Random Forest Classifier é: 0.7416267942583733\n"
          ],
          "name": "stdout"
        }
      ]
    },
    {
      "cell_type": "code",
      "metadata": {
        "colab": {
          "base_uri": "https://localhost:8080/",
          "height": 648
        },
        "id": "rK8U7_m1NI2H",
        "outputId": "85e8db0f-bfb1-42d6-c501-14eee81f6ca9"
      },
      "source": [
        "# função para plotar a curva ROC\n",
        "plota_curva_roc(modelo_lr, 'Logistic Regression', dados_ml, 'maroon')"
      ],
      "execution_count": 26,
      "outputs": [
        {
          "output_type": "display_data",
          "data": {
            "image/png": "[encoded data removed]",
            "text/plain": [
              "<Figure size 720x720 with 1 Axes>"
            ]
          },
          "metadata": {
            "needs_background": "light"
          }
        }
      ]
    },
    {
      "cell_type": "markdown",
      "metadata": {
        "id": "fQZIK6HENnQY"
      },
      "source": [
        "Para o modelo Logistic Regression o **AUC** encontrado é **0.74**. Abaixo as previsões serão detalhadas na **matriz de confusão**."
      ]
    },
    {
      "cell_type": "code",
      "metadata": {
        "colab": {
          "base_uri": "https://localhost:8080/",
          "height": 553
        },
        "id": "0ER7SJoPNYfZ",
        "outputId": "9c7cb4f0-48f2-409e-ad02-9286c1c2934a"
      },
      "source": [
        "# plota a matriz de confusão\n",
        "plota_matriz_confusa(modelo_lr, 'Logistic Regression', dados_ml, 'Reds')"
      ],
      "execution_count": 27,
      "outputs": [
        {
          "output_type": "display_data",
          "data": {
            "image/png": "[encoded data removed]",
            "text/plain": [
              "<Figure size 720x720 with 1 Axes>"
            ]
          },
          "metadata": {
            "needs_background": "light"
          }
        }
      ]
    },
    {
      "cell_type": "markdown",
      "metadata": {
        "id": "1zaEVewAOQ9G"
      },
      "source": [
        "A matriz acima mostra os **valores reais** e os que foram **previstos pelo modelo**.\n",
        "\n",
        "Na matriz temos as informações:\n",
        "- 33 pacientes precisaram de UTI, o **modelo classificou corretamente 21 desses pacientes - 64%**.\n",
        "\n",
        "- 38 pacientes não precisaram de UTI, o **modelo classificou corretamente 31 desses pacientes - 82%**.\n",
        "\n",
        "O modelo não previu corretamente que 12 pessoas (36% do total de pessoas que precisaram de UTI) precisariam de UTI é crítico.\n",
        "\n",
        "Já sobre os dados de pacientes que não precisaram de UTI, o **modelo errou 7 pessoas (18% do total de pacientes que não precisaram de UTI)**.\n",
        "\n",
        "O modelo tem uma porcentagem de acerto boa para dizer se o paciente não precisará de UTI, mas os falsos negativos são críticos nessa situação. Ao dizer que um paciente não precisa de UTI, e na realidade ele necessita, a doença pode se agravar antes do paciente ter os cuidados necessários.\n",
        "\n",
        "Para verificar se esses são os valores encontrados com todos os dados ou somente com essa porção será realizada uma **validação cruzada**."
      ]
    },
    {
      "cell_type": "code",
      "metadata": {
        "colab": {
          "base_uri": "https://localhost:8080/"
        },
        "id": "TYGxjNyIOC5p",
        "outputId": "3ad0de84-810b-4397-807f-af9f15640a31"
      },
      "source": [
        "# realiza validação cruzada do modelo\n",
        "cv_modelo(modelo_lr, dados_ml, 5, 10)"
      ],
      "execution_count": 28,
      "outputs": [
        {
          "output_type": "stream",
          "text": [
            "AUC médio para os dados de teste: 0.7697778729686625\n",
            "AUC médio para os dados de treino: 0.8518187752038671\n",
            "Intervalo da AUC para os dados de teste: 0.675589497140343 - 0.863966248796982\n"
          ],
          "name": "stdout"
        },
        {
          "output_type": "execute_result",
          "data": {
            "text/plain": [
              "(0.7697778729686625, 0.8518187752038671)"
            ]
          },
          "metadata": {},
          "execution_count": 28
        }
      ]
    },
    {
      "cell_type": "markdown",
      "metadata": {
        "id": "sMXZxZZnO53f"
      },
      "source": [
        "Na informação acima um **AUC médio de 0.77** foi encontrado nos dados de teste, muito próximo ao encontrado anteriormente (**0.74**).\n",
        "\n",
        "O **intervalo** informado foi calculado através do **desvio padrão** e mostra uma variação do **AUC de 0.67 a 0.86**. Essa variação ocorre devido a porção dos dados que são selecionadas para realizar o treino e teste na validação cruzada.\n",
        "\n",
        "De modo geral o modelo **Random Forest** teve uma performance **MELHOR** que o **Logistic Regression**."
      ]
    },
    {
      "cell_type": "markdown",
      "metadata": {
        "id": "MAjqIf5IPPuI"
      },
      "source": [
        "# Modelos SVM (Support Vector Machine)\n",
        "\n",
        "## Modelo SVC (Support Vector Classification)\n",
        "\n",
        "Modelos **SVM** são métodos de aprendizado supervisionado utilizados para classificação, regressão e detecção de outliers. Algumas vantagens desses modelos são:\n",
        "\n",
        "- efetivo em espações multidimensionais;\n",
        "\n",
        "- efetivo em casos onde o número de dimensões é maior que o número de amostras;\n",
        "\n",
        "- utilizado uma porção dos dados de treino na função de decisão (chamados vetores de suporte);\n",
        "\n",
        "Os **hiperparâmetros** informados para o modelo são:\n",
        "\n",
        "- **C**: parâmetro de regularização inversa, precisa ser um número float positivo;\n",
        "\n",
        "- **kernel**: informa o tipo de kernel a ser utilizado pelo algoritmo;\n",
        "\n",
        "- **degree**: grau da função polinomial do kernel ('poly').\n",
        "\n",
        "- **gamma**: coeficiente do kernel para 'rbf', 'poly' e 'sigmoid';"
      ]
    },
    {
      "cell_type": "code",
      "metadata": {
        "colab": {
          "base_uri": "https://localhost:8080/"
        },
        "id": "UMhHB7KDO0e6",
        "outputId": "b9779208-90e5-4d7e-a8f3-5a692fa37afa"
      },
      "source": [
        "# dicionário com os hiperparâmetros\n",
        "hiper_param_svc = {\n",
        "    'C' : [0.5, 1.0, 3.0, 5.0, 10.0],\n",
        "    'kernel' : ['linear', 'poly', 'rbf', 'sigmoid'],\n",
        "    'degree' : [1, 3, 5, 7],\n",
        "    'gamma' : ['scale', 'auto']\n",
        "}\n",
        "\n",
        "# instancia o modelo\n",
        "modelo_svc = SVC(random_state=481516)\n",
        "\n",
        "# função para testar os hiperparâmetros\n",
        "teste_hiperparametro(modelo_svc, dados_ml, hiper_param_svc)"
      ],
      "execution_count": 29,
      "outputs": [
        {
          "output_type": "execute_result",
          "data": {
            "text/plain": [
              "({'C': 3.0, 'degree': 3, 'gamma': 'scale', 'kernel': 'poly'},\n",
              " 0.7713704523901893)"
            ]
          },
          "metadata": {},
          "execution_count": 29
        }
      ]
    },
    {
      "cell_type": "markdown",
      "metadata": {
        "id": "BlWTOz8DS852"
      },
      "source": [
        "Os **hiperparâmetros** selecionados pelo **RandomizedSearchCV** são:\n",
        "\n",
        "- C: **3.0**;\n",
        "\n",
        "- kernel: **poly**;\n",
        "\n",
        "- degree: **3**;\n",
        "\n",
        "- gamma: **scale**;\n",
        "\n",
        "O AUC encontrado pela validação cruzada realizada pelo RandomizedSearchCV foi **0.77**."
      ]
    },
    {
      "cell_type": "code",
      "metadata": {
        "id": "RCIz3UzbSk3D"
      },
      "source": [
        "# instancia o modelo com os hiperparâmetros selecionados\n",
        "modelo_svc = SVC(C=3.0, kernel='poly', degree=3, gamma='scale', random_state=481516,\n",
        "                 probability=True)"
      ],
      "execution_count": 30,
      "outputs": []
    },
    {
      "cell_type": "markdown",
      "metadata": {
        "id": "7FE-TqGjT_h4"
      },
      "source": [
        "Os dados já foram divididos anteriormente.\n",
        "\n",
        "O parâmetro **probability** foi adicionado para que o **predict_proba** seja informado."
      ]
    },
    {
      "cell_type": "code",
      "metadata": {
        "id": "sjypVkrKT-sv"
      },
      "source": [
        "# treina o modelo\n",
        "modelo_svc.fit(x_train, y_train)\n",
        "\n",
        "# realiza a previsão\n",
        "previsao_svc = modelo_svc.predict(x_test)\n",
        "\n",
        "# verifica a probabilidade da previsão\n",
        "prob_prev_svc = modelo_svc.predict_proba(x_test)"
      ],
      "execution_count": 31,
      "outputs": []
    },
    {
      "cell_type": "markdown",
      "metadata": {
        "id": "spG2UKhGUdih"
      },
      "source": [
        "### Avaliação do modelo SVC\n",
        "\n",
        "Como para os modelos anteriores, aqui serão avaliadas as métricas informadas pelo **Classification Report**, **ROC AUC** e **Matriz de Confusão**."
      ]
    },
    {
      "cell_type": "code",
      "metadata": {
        "colab": {
          "base_uri": "https://localhost:8080/"
        },
        "id": "U-U8rSv-UHqG",
        "outputId": "7cde80e1-470d-4802-8984-47b9fcb3a4a7"
      },
      "source": [
        "# imprime o Classification Report\n",
        "print('Classification Report:\\n')\n",
        "print(classification_report(y_test, previsao_svc))"
      ],
      "execution_count": 32,
      "outputs": [
        {
          "output_type": "stream",
          "text": [
            "Classification Report:\n",
            "\n",
            "              precision    recall  f1-score   support\n",
            "\n",
            "           0       0.69      0.76      0.72        38\n",
            "           1       0.69      0.61      0.65        33\n",
            "\n",
            "    accuracy                           0.69        71\n",
            "   macro avg       0.69      0.68      0.69        71\n",
            "weighted avg       0.69      0.69      0.69        71\n",
            "\n"
          ],
          "name": "stdout"
        }
      ]
    },
    {
      "cell_type": "markdown",
      "metadata": {
        "id": "V1NC4qbdVBUn"
      },
      "source": [
        "O **Classification Report** acima demonstra a performance do modelo de **SVC**:\n",
        "\n",
        "Na coluna **Precision**:\n",
        "\n",
        "Dentro de todas as previsões indicando que o paciente não precisa de UTI, o modelo acertou 69%.\n",
        "\n",
        "Dentro de todas as previsões indicando que o paciente precisa de UTI, o modelo acertou 69%.\n",
        "\n",
        "Na coluna **Recall**:\n",
        "\n",
        "Considerando os pacientes que não foram para a UTI, o modelo acertou a previsão para 76% desses pacientes.\n",
        "\n",
        "Considerando os pacientes que foram para a UTI, o modelo acertou a previsão para 61% desses pacientes."
      ]
    },
    {
      "cell_type": "code",
      "metadata": {
        "colab": {
          "base_uri": "https://localhost:8080/",
          "height": 648
        },
        "id": "R_YZYa-8Uq68",
        "outputId": "b82999a1-31b3-47ed-c0bc-cb8cf16dad5f"
      },
      "source": [
        "# função para plotar a curva ROC\n",
        "plota_curva_roc(modelo_svc, 'SVC', dados_ml, 'cornflowerblue')"
      ],
      "execution_count": 33,
      "outputs": [
        {
          "output_type": "display_data",
          "data": {
            "image/png": "[encoded data removed]",
            "text/plain": [
              "<Figure size 720x720 with 1 Axes>"
            ]
          },
          "metadata": {
            "needs_background": "light"
          }
        }
      ]
    },
    {
      "cell_type": "markdown",
      "metadata": {
        "id": "Yn8zfYrRVhI2"
      },
      "source": [
        "Para o modelo SVC o **AUC** encontrado é **0.75**. Abaixo as previsões serão detalhadas na **matriz de confusão**."
      ]
    },
    {
      "cell_type": "code",
      "metadata": {
        "colab": {
          "base_uri": "https://localhost:8080/",
          "height": 553
        },
        "id": "jgNTm45jVZZ4",
        "outputId": "74df1c3e-ad29-4381-f3e2-26c352524c88"
      },
      "source": [
        "# função para plotar a matriz de confusão\n",
        "plota_matriz_confusa(modelo_svc, 'SVC', dados_ml, 'Blues')"
      ],
      "execution_count": 34,
      "outputs": [
        {
          "output_type": "display_data",
          "data": {
            "image/png": "[encoded data removed]",
            "text/plain": [
              "<Figure size 720x720 with 1 Axes>"
            ]
          },
          "metadata": {
            "needs_background": "light"
          }
        }
      ]
    },
    {
      "cell_type": "markdown",
      "metadata": {
        "id": "BK6EXGEnV-N3"
      },
      "source": [
        "A **matriz** acima mostra os **valores reais** e os que **foram previstos pelo modelo**.\n",
        "\n",
        "Na matriz temos as informações:\n",
        "- 33 pacientes precisaram de UTI, o **modelo classificou corretamente 20 desses pacientes - 61%**.\n",
        "\n",
        "- 38 pacientes não precisaram de UTI, o **modelo classificou corretamente 29 desses pacientes - 76%**.\n",
        "\n",
        "O modelo não previu corretamente que 13 pessoas (39% do total de pessoas que precisaram de UTI) precisariam de UTI é crítico.\n",
        "\n",
        "Já sobre os dados de pacientes que não precisaram de UTI, o **modelo errou 9 pessoas (24% do total de pacientes que não precisaram de UTI)**.\n",
        "\n",
        "No geral o modelo **NÃO** teve uma performance boa para prever se o paciente precisará ou não de UTI.\n",
        "\n",
        "Para verificar se esses são os valores encontrados com todos os dados ou somente com essa porção será realizada uma **validação cruzada**."
      ]
    },
    {
      "cell_type": "code",
      "metadata": {
        "colab": {
          "base_uri": "https://localhost:8080/"
        },
        "id": "Khs5WXlSV4gP",
        "outputId": "f3bd1ae4-8819-41c9-92ca-70bb642ba640"
      },
      "source": [
        "# realiza validação cruzada do modelo\n",
        "cv_modelo(modelo_svc, dados_ml, 5, 10)"
      ],
      "execution_count": 35,
      "outputs": [
        {
          "output_type": "stream",
          "text": [
            "AUC médio para os dados de teste: 0.7715038229018493\n",
            "AUC médio para os dados de treino: 0.8645495207952179\n",
            "Intervalo da AUC para os dados de teste: 0.6837006693069645 - 0.859306976496734\n"
          ],
          "name": "stdout"
        },
        {
          "output_type": "execute_result",
          "data": {
            "text/plain": [
              "(0.7715038229018493, 0.8645495207952179)"
            ]
          },
          "metadata": {},
          "execution_count": 35
        }
      ]
    },
    {
      "cell_type": "markdown",
      "metadata": {
        "id": "CVLgd1tEWsv2"
      },
      "source": [
        "A validação cruzada encontrou um **AUC médio de 0.77** nos dados de teste, muito próximo ao encontrado anteriormente (**0.75**).\n",
        "\n",
        "O **intervalo** informado foi calculado através do **desvio padrão** e mostra uma variação do **AUC de 0.68 a 0.85**. Essa variação ocorre devido a porção dos dados que são selecionadas para realizar o treino e teste na validação cruzada.\n",
        "\n",
        "De modo geral o modelo SVC teve uma performance **PIOR** que os modelos anteriores."
      ]
    },
    {
      "cell_type": "markdown",
      "metadata": {
        "id": "Mv8Ii6DdXL3m"
      },
      "source": [
        "## Modelo LinearSVC (Linear Supporte Vector Classification)\n",
        "\n",
        "Similar ao modelo SVC porém com o parâmetro kernel definido como linear.\n",
        "\n",
        "Os **hiperparâmetros** informados para o modelo são:\n",
        "\n",
        "- **penalty**: especifica a norma usada na penalização;\n",
        "\n",
        "- **dual**: seleciona o algoritmo para resolver o problema de otimização original (primal) ou duplo (dual);\n",
        "\n",
        "- **C**: parâmetro de regularização;\n",
        "\n",
        "- **max_iter**: número máximo de iteração que serão processadas;"
      ]
    },
    {
      "cell_type": "code",
      "metadata": {
        "colab": {
          "base_uri": "https://localhost:8080/"
        },
        "id": "kUG6EPw0Wf84",
        "outputId": "3c0f0f32-8b69-4cce-8f6c-2b6faa4e20a7"
      },
      "source": [
        "# dicionário com os hiperparâmetros\n",
        "hiper_param_linear_svc = {\n",
        "    'penalty' : ['l1', 'l2'],\n",
        "    'dual' : [True, False],\n",
        "    'C' : [0.1, 0.3, 0.5],\n",
        "    'max_iter' : [300, 500, 1000]\n",
        "}\n",
        "\n",
        "# instancia o modelo Linear SVC\n",
        "modelo_linear_svc = LinearSVC(random_state=481516)\n",
        "\n",
        "# testa os hiperparâmetros\n",
        "teste_hiperparametro(modelo_linear_svc, dados_ml, hiper_param_linear_svc)"
      ],
      "execution_count": 36,
      "outputs": [
        {
          "output_type": "execute_result",
          "data": {
            "text/plain": [
              "({'C': 0.1, 'dual': False, 'max_iter': 500, 'penalty': 'l2'},\n",
              " 0.7689890323936378)"
            ]
          },
          "metadata": {},
          "execution_count": 36
        }
      ]
    },
    {
      "cell_type": "markdown",
      "metadata": {
        "id": "nTPJRs6iZnDM"
      },
      "source": [
        "Os **hiperparâmetros** selecionados pelo **RandomizedSearchCV** são:\n",
        "\n",
        "- penalty: **l2**;\n",
        "\n",
        "- dual: **False**;\n",
        "\n",
        "- C: **0.1**;\n",
        "\n",
        "- max_iter: **500**;\n",
        "\n",
        "O AUC encontrado pela validação cruzada realizada pelo RandomizedSearchCV foi **0.77**."
      ]
    },
    {
      "cell_type": "code",
      "metadata": {
        "id": "0DKIT-ivZKwP"
      },
      "source": [
        "# instancia o modelo com os hiperparâmetros selecionados\n",
        "modelo_linear_svc = LinearSVC(penalty='l2', dual=False, C=0.1, max_iter=500,\n",
        "                              random_state=481516)"
      ],
      "execution_count": 37,
      "outputs": []
    },
    {
      "cell_type": "markdown",
      "metadata": {
        "id": "4OfEyf_fascZ"
      },
      "source": [
        "Os dados já foram separados em treino e teste anteriormente."
      ]
    },
    {
      "cell_type": "code",
      "metadata": {
        "id": "qtB1_wmSal-m"
      },
      "source": [
        "# treina o modelo\n",
        "modelo_linear_svc.fit(x_train, y_train)\n",
        "\n",
        "# realiza a previsão\n",
        "previsao_linear_svc = modelo_linear_svc.predict(x_test)"
      ],
      "execution_count": 38,
      "outputs": []
    },
    {
      "cell_type": "markdown",
      "metadata": {
        "id": "wIvuqbxabOq6"
      },
      "source": [
        "O modelo **LinearSVC** não realiza o cálculo do **predict_proba**."
      ]
    },
    {
      "cell_type": "code",
      "metadata": {
        "colab": {
          "base_uri": "https://localhost:8080/"
        },
        "id": "14tCSSf8a22t",
        "outputId": "6c09c792-4a5d-4078-cf29-79ef6c496e9e"
      },
      "source": [
        "# imprime o Classification Report\n",
        "print('Classification Report:\\n')\n",
        "print(classification_report(y_test, previsao_linear_svc))"
      ],
      "execution_count": 39,
      "outputs": [
        {
          "output_type": "stream",
          "text": [
            "Classification Report:\n",
            "\n",
            "              precision    recall  f1-score   support\n",
            "\n",
            "           0       0.72      0.82      0.77        38\n",
            "           1       0.75      0.64      0.69        33\n",
            "\n",
            "    accuracy                           0.73        71\n",
            "   macro avg       0.74      0.73      0.73        71\n",
            "weighted avg       0.73      0.73      0.73        71\n",
            "\n"
          ],
          "name": "stdout"
        }
      ]
    },
    {
      "cell_type": "markdown",
      "metadata": {
        "id": "vSeBffA5dMRe"
      },
      "source": [
        "O **Classification Report** acima demonstra a performance do modelo de **LinearSVC**:\n",
        "\n",
        "Na coluna **Precision**:\n",
        "\n",
        "Dentro de todas as previsões indicando que o paciente não precisa de UTI, o modelo acertou 72%.\n",
        "\n",
        "Dentro de todas as previsões indicando que o paciente precisa de UTI, o modelo acertou 75%.\n",
        "\n",
        "Na coluna **Recall**:\n",
        "\n",
        "Considerando os pacientes que não foram para a UTI, o modelo acertou a previsão para 82% desses pacientes.\n",
        "\n",
        "Considerando os pacientes que foram para a UTI, o modelo acertou a previsão para 64% desses pacientes."
      ]
    },
    {
      "cell_type": "code",
      "metadata": {
        "colab": {
          "base_uri": "https://localhost:8080/",
          "height": 648
        },
        "id": "nzlfSbUJdE6j",
        "outputId": "b76edfa1-b074-4ea6-edbb-4580f7ab9afd"
      },
      "source": [
        "# função para plotar a curva ROC\n",
        "plota_curva_roc(modelo_linear_svc, 'LinearSVC', dados_ml, 'darkgoldenrod')"
      ],
      "execution_count": 40,
      "outputs": [
        {
          "output_type": "display_data",
          "data": {
            "image/png": "[encoded data removed]",
            "text/plain": [
              "<Figure size 720x720 with 1 Axes>"
            ]
          },
          "metadata": {
            "needs_background": "light"
          }
        }
      ]
    },
    {
      "cell_type": "markdown",
      "metadata": {
        "id": "6E1L0bJAd3tE"
      },
      "source": [
        "Para o modelo LinearSVC o **AUC** encontrado é **0.74**. Abaixo as previsões serão detalhadas na **matriz de confusão**."
      ]
    },
    {
      "cell_type": "code",
      "metadata": {
        "colab": {
          "base_uri": "https://localhost:8080/",
          "height": 553
        },
        "id": "z00uHn89dtNS",
        "outputId": "5943b05d-8d94-4fff-beb8-0fc139985c1d"
      },
      "source": [
        "# função para plotar a matriz de confusão\n",
        "plota_matriz_confusa(modelo_linear_svc, 'LinearSVC', dados_ml, 'YlOrBr')"
      ],
      "execution_count": 41,
      "outputs": [
        {
          "output_type": "display_data",
          "data": {
            "image/png": "[encoded data removed]",
            "text/plain": [
              "<Figure size 720x720 with 1 Axes>"
            ]
          },
          "metadata": {
            "needs_background": "light"
          }
        }
      ]
    },
    {
      "cell_type": "markdown",
      "metadata": {
        "id": "B_UE0hOCeL0k"
      },
      "source": [
        "A **matriz** acima mostra os **valores reais** e os que **foram previstos pelo modelo**.\n",
        "\n",
        "Na matriz temos as informações:\n",
        "- 33 pacientes precisaram de UTI, o **modelo classificou corretamente 21 desses pacientes - 64%**.\n",
        "\n",
        "- 38 pacientes não precisaram de UTI, o **modelo classificou corretamente 31 desses pacientes - 82%**.\n",
        "\n",
        "O modelo não previu corretamente que 12 pessoas (36% do total de pessoas que precisaram de UTI) precisariam de UTI é crítico.\n",
        "\n",
        "Já sobre os dados de pacientes que não precisaram de UTI, o **modelo errou 7 pessoas (18% do total de pacientes que não precisaram de UTI)**.\n",
        "\n",
        "O modelo teve uma boa performance em prever os pacientes que não precisaram de UTI, porém o erro de previsão para 12 pacientes que precisaram de UTI é um ponto a ser considerado.\n",
        "\n",
        "Para verificar se esses são os valores encontrados com todos os dados ou somente com essa porção será realizada uma **validação cruzada**."
      ]
    },
    {
      "cell_type": "code",
      "metadata": {
        "colab": {
          "base_uri": "https://localhost:8080/"
        },
        "id": "yQ9DUjLTeGzp",
        "outputId": "bda177d6-03c5-4eb5-d79d-b843c5f74dc6"
      },
      "source": [
        "# realiza validação cruzada do modelo\n",
        "cv_modelo(modelo_linear_svc, dados_ml, 5, 10)"
      ],
      "execution_count": 42,
      "outputs": [
        {
          "output_type": "stream",
          "text": [
            "AUC médio para os dados de teste: 0.7700455569205569\n",
            "AUC médio para os dados de treino: 0.8506038276004844\n",
            "Intervalo da AUC para os dados de teste: 0.6767899075898329 - 0.8633012062512808\n"
          ],
          "name": "stdout"
        },
        {
          "output_type": "execute_result",
          "data": {
            "text/plain": [
              "(0.7700455569205569, 0.8506038276004844)"
            ]
          },
          "metadata": {},
          "execution_count": 42
        }
      ]
    },
    {
      "cell_type": "markdown",
      "metadata": {
        "id": "jrLOKErdfgqh"
      },
      "source": [
        "A **validação cruzada** encontrou um **AUC médio de 0.77** nos dados de teste, muito próximo ao encontrado anteriormente (**0.74**).\n",
        "\n",
        "O **intervalo** informado foi calculado através do **desvio padrão** e mostra uma variação do **AUC de 0.68 a 0.86**. Essa variação ocorre devido a porção dos dados que são selecionadas para realizar o treino e teste na validação cruzada.\n",
        "\n",
        "De modo geral o modelo LinearSVC teve uma performance **MELHOR** que o modelo SVC, com resultados muito próximos aos encontrados com os modelos Random Forest e Logistic Regression."
      ]
    },
    {
      "cell_type": "markdown",
      "metadata": {
        "id": "yfbfRcm9gCZR"
      },
      "source": [
        "# Conclusão\n",
        "\n",
        "Chegando ao fim desse notebook, e por consequência ao final desse projeto, as conclusões abaixo foram constatadas:\n",
        "\n",
        "- 4 modelos de classificação foram testados com os dados disponibilizados pelo Hospital Sírio Libanês com o objetivo de prever a necessidade, ou não, de um paciente necessitar de UTI;\n",
        "\n",
        "- Entre os 4 modelos testados, o melhor desempenho foi apresentado pelo modelo **Random Forest Classifier**, seguido do **LinearSVC** e **Logistic Regression** que apresentaram resultados similares. Abaixo os modelos estão ordenados por desempenho:\n",
        "\n",
        "1. **Random Forest Classifier**\n",
        "\n",
        "2. **LinearSVC**\n",
        "\n",
        "3. **Logistic Regression**\n",
        "\n",
        "4. **SVC**\n",
        "\n",
        "### Comparação das métricas de desempenho entre os modelos\n",
        "\n",
        "| Métrica de Desempenho |Random Forest Classifier|LinearSVC|Logistic Regression|SVC|\n",
        "|:---------------------:|:----------------------:|:-------:|:-----------:|:-----:|\n",
        "|PRECISION(0)           | **0.73** | **0.72** | **0.72** | **0.69** |\n",
        "|PRECISION(1)           | **0.78** | **0.75** | **0.75** | **0.69** |\n",
        "|RECALL(0)              | **0.84** | **0.82** | **0.82** | **0.76** |\n",
        "|RECALL(1)              | **0.64** | **0.64** | **0.64** | **0.61** |\n",
        "|F1.Score(0)            | **0.78** | **0.77** | **0.77** | **0.72** |\n",
        "|F1.Score(1)            | **0.70** | **0.69** | **0.69** | **0.65** |\n",
        "|AUC TEST               | **0.80** | **0.77** | **0.77** | **0.77** |\n",
        "|AUC TREINO             | **0.98** | **0.85** | **0.85** | **0.86** |\n",
        "|AUC                    | **0.78** | **0.74** | **0.74** | **0.75** |\n",
        "\n",
        "O desempenho encontrado por alguns dos modelos testados nesse projeto são satisfatórios e podem auxiliar no diagnóstico da necessidade de um leito de UTI por um paciente assim que chegar ao hospital.\n",
        "\n",
        "Como os modelos Random Forest Classifiers, LinearSVC e Logistic Regression apresentaram resultados próximos, uma solução interessante seria criar um **ensemble** com os 3 modelos e verificar se os resultados encontrados seriam melhores."
      ]
    },
    {
      "cell_type": "markdown",
      "metadata": {
        "id": "3m4B7IOhmAEO"
      },
      "source": [
        "## Próximos Passos\n",
        "\n",
        "As seguintes sugestões podem ser utilizadas para melhorar o desempenho das previsões dos modelos testados nesse projeto:\n",
        "\n",
        "- Testar outros modelos de classificação e verificar as previsões;\n",
        "\n",
        "- Criar um *ensemble* dos modelos com a melhor performance que foram testados nesse projeto;\n",
        "\n",
        "- Testar os modelos adicionando as outras janelas (coluna window) disponíveis nos dados;"
      ]
    },
    {
      "cell_type": "markdown",
      "metadata": {
        "id": "3Wq3aHIdoKE9"
      },
      "source": [
        "## Referências utilizadas durante o projeto\n",
        "\n",
        "1. [Página do Kaggle com informações sobre a base de dados](https://www.kaggle.com/S%C3%ADrio-Libanes/covid19)\n",
        "\n",
        "2. [Text classification with extremely small datasets](https://towardsdatascience.com/text-classification-with-extremely-small-datasets-333d322caee2)\n",
        "\n",
        "3. [5 Feature Selection Method From SciKit Learn You Should Know](https://towardsdatascience.com/5-feature-selection-method-from-scikit-learn-you-should-know-ed4d116e4172)\n",
        "\n",
        "4. [Como Selecionar As Melhores Features Para Seu Modelo de Machine Learning](https://paulovasconcellos.com.br/como-selecionar-as-melhores-features-para-seu-modelo-de-machine-learning-2e9df83d062a)\n",
        "\n",
        "5. [Machine Learning Map](https://scikit-learn.org/stable/tutorial/machine_learning_map/)\n",
        "\n",
        "6. [Primeiro caso de Covid-19 pode ter atingindo a Chine em outubro](https://www.cnnbrasil.com.br/saude/primeiro-caso-covid-19-pode-ter-atingido-a-china-em-outubro-de-2019-diz-estudo/)\n",
        "\n",
        "7. [Evolução dos Sintomas do Covid-19](https://saude.abril.com.br/medicina/casos-sem-sintomas-evolucoes-coronavirus/)\n",
        "\n",
        "8. [Covid Impact to Global Healthcare](https://edition.cnn.com/videos/world/2021/04/14/covid-impact-global-healthcare-lon-orig.cnn)\n",
        "\n",
        "9. [Observatório Covid-19 aponta maior colapso sanitário e hospitalar da história do Brasil](https://portal.fiocruz.br/noticia/observatorio-covid-19-aponta-maior-colapso-sanitario-e-hospitalar-da-historia-do-brasil)\n",
        "\n",
        "10. [Primeiro caso Covid-19 no Brasil](https://saude.abril.com.br/medicina/coronavirus-primeiro-caso-brasil/)\n",
        "\n",
        "11. [Overfitting e Underfitting em Machine Learning](https://abracd.org/overfitting-e-underfitting-em-machine-learning/#:~:text=Underfitting%20%C3%A9%20uma%20tradu%C3%A7%C3%A3o%20para,Overfitting%20%C3%A9%20o%20oposto)\n",
        "\n",
        "12. [WHO delivers advice and support for older people during Covid-19](https://www.who.int/news-room/feature-stories/detail/who-delivers-advice-and-support-for-older-people-during-covid-19#:~:text=The%20COVID%2D19%20pandemic,potential%20underlying%20health%20conditions)\n",
        "\n",
        "13. [Machine Learning in Healthcare](https://healthinformatics.uic.edu/blog/machine-learning-in-healthcare/)\n",
        "\n",
        "14. [Machine Learning](https://www.ibm.com/cloud/learn/machine-learning)\n",
        "\n",
        "15. [Hiperparameter Tuning](https://towardsdatascience.com/hyperparameter-tuning-c5619e7e6624)\n",
        "\n",
        "16. [SKLearn Model Selection - RandomizedSearchCV](https://scikit-learn.org/stable/modules/generated/sklearn.model_selection.RandomizedSearchCV.html)\n",
        "\n",
        "17. [Entenda o que é AUC e ROC nos modelos de Machine Learning](https://medium.com/bio-data-blog/entenda-o-que-%C3%A9-auc-e-roc-nos-modelos-de-machine-learning-8191fb4df772)\n",
        "\n",
        "18. [Understanding Confusion Matrix](https://towardsdatascience.com/understanding-confusion-matrix-a9ad42dcfd62)\n",
        "\n",
        "19. [Understanding a Classification Report For Your Machine Learning Model](https://medium.com/@kohlishivam5522/understanding-a-classification-report-for-your-machine-learning-model-88815e2ce397)\n",
        "\n",
        "20. [Understanding AUC ROC Curve](https://towardsdatascience.com/understanding-auc-roc-curve-68b2303cc9c5)\n",
        "\n",
        "21. [Regressão Logística](https://pt.wikipedia.org/wiki/Regress%C3%A3o_log%C3%ADstica)\n",
        "\n",
        "22. [SciKit Learn - RandomForestClassifier](http://scikit-learn.org/stable/modules/generated/sklearn.ensemble.RandomForestClassifier.html)\n",
        "\n",
        "23. [SciKit Learn - Logistic Regression](http://scikit-learn.org/stable/modules/generated/sklearn.linear_model.LogisticRegression.html)\n",
        "\n",
        "24. [SciKit Learn - SVC](http://scikit-learn.org/stable/modules/generated/sklearn.svm.SVC.html)\n",
        "\n",
        "25. [SciKit Learn - LinearSVC](https://scikit-learn.org/stable/modules/generated/sklearn.svm.LinearSVC.html)"
      ]
    }
  ]
}